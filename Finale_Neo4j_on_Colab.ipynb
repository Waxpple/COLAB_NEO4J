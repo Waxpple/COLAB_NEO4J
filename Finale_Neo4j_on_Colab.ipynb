{
  "nbformat": 4,
  "nbformat_minor": 0,
  "metadata": {
    "colab": {
      "name": "Untitled21.ipynb",
      "provenance": [],
      "collapsed_sections": [],
      "include_colab_link": true
    },
    "kernelspec": {
      "name": "python3",
      "display_name": "Python 3"
    }
  },
  "cells": [
    {
      "cell_type": "markdown",
      "metadata": {
        "id": "view-in-github",
        "colab_type": "text"
      },
      "source": [
        "<a href=\"https://colab.research.google.com/github/Waxpple/COLAB_NEO4J/blob/master/Finale_Neo4j_on_Colab.ipynb\" target=\"_parent\"><img src=\"https://colab.research.google.com/assets/colab-badge.svg\" alt=\"Open In Colab\"/></a>"
      ]
    },
    {
      "cell_type": "markdown",
      "metadata": {
        "id": "a2zy5iCwfgRn",
        "colab_type": "text"
      },
      "source": [
        "\n",
        "\n",
        "**1. Set-up environment**"
      ]
    },
    {
      "cell_type": "code",
      "metadata": {
        "id": "xTjbX2FzMWW4",
        "colab_type": "code",
        "outputId": "61b2ef84-82d7-424a-a985-9243b7822049",
        "colab": {
          "base_uri": "https://localhost:8080/",
          "height": 221
        }
      },
      "source": [
        "!pip install py2neo\n",
        "from py2neo import Graph\n",
        "#graph = Graph(\"bolt://###[your-ip]:[your-port]\",auth=(\"user-account\",\"password\"))\n",
        "graph = Graph(\"########HERE#########\")"
      ],
      "execution_count": 0,
      "outputs": [
        {
          "output_type": "stream",
          "text": [
            "Requirement already satisfied: py2neo in /usr/local/lib/python3.6/dist-packages (4.3.0)\n",
            "Requirement already satisfied: urllib3<1.25,>=1.23 in /usr/local/lib/python3.6/dist-packages (from py2neo) (1.24.3)\n",
            "Requirement already satisfied: colorama in /usr/local/lib/python3.6/dist-packages (from py2neo) (0.4.3)\n",
            "Requirement already satisfied: click==7.0 in /usr/local/lib/python3.6/dist-packages (from py2neo) (7.0)\n",
            "Requirement already satisfied: pygments~=2.3.1 in /usr/local/lib/python3.6/dist-packages (from py2neo) (2.3.1)\n",
            "Requirement already satisfied: pytz in /usr/local/lib/python3.6/dist-packages (from py2neo) (2018.9)\n",
            "Requirement already satisfied: certifi in /usr/local/lib/python3.6/dist-packages (from py2neo) (2019.11.28)\n",
            "Requirement already satisfied: prompt-toolkit~=2.0.7 in /usr/local/lib/python3.6/dist-packages (from py2neo) (2.0.10)\n",
            "Requirement already satisfied: neotime~=1.7.4 in /usr/local/lib/python3.6/dist-packages (from py2neo) (1.7.4)\n",
            "Requirement already satisfied: neobolt~=1.7.12 in /usr/local/lib/python3.6/dist-packages (from py2neo) (1.7.15)\n",
            "Requirement already satisfied: six>=1.9.0 in /usr/local/lib/python3.6/dist-packages (from prompt-toolkit~=2.0.7->py2neo) (1.12.0)\n",
            "Requirement already satisfied: wcwidth in /usr/local/lib/python3.6/dist-packages (from prompt-toolkit~=2.0.7->py2neo) (0.1.7)\n"
          ],
          "name": "stdout"
        }
      ]
    },
    {
      "cell_type": "code",
      "metadata": {
        "id": "pKuqAVxdSZ8C",
        "colab_type": "code",
        "outputId": "b14db47b-e247-4488-e22f-cc1344ac3e18",
        "colab": {
          "base_uri": "https://localhost:8080/",
          "height": 241
        }
      },
      "source": [
        "!pip install py2neo --upgrade"
      ],
      "execution_count": 0,
      "outputs": [
        {
          "output_type": "stream",
          "text": [
            "Requirement already up-to-date: py2neo in /usr/local/lib/python3.6/dist-packages (4.3.0)\n",
            "Requirement already satisfied, skipping upgrade: pygments~=2.3.1 in /usr/local/lib/python3.6/dist-packages (from py2neo) (2.3.1)\n",
            "Requirement already satisfied, skipping upgrade: prompt-toolkit~=2.0.7 in /usr/local/lib/python3.6/dist-packages (from py2neo) (2.0.10)\n",
            "Requirement already satisfied, skipping upgrade: pytz in /usr/local/lib/python3.6/dist-packages (from py2neo) (2018.9)\n",
            "Requirement already satisfied, skipping upgrade: click==7.0 in /usr/local/lib/python3.6/dist-packages (from py2neo) (7.0)\n",
            "Requirement already satisfied, skipping upgrade: urllib3<1.25,>=1.23 in /usr/local/lib/python3.6/dist-packages (from py2neo) (1.24.3)\n",
            "Requirement already satisfied, skipping upgrade: neobolt~=1.7.12 in /usr/local/lib/python3.6/dist-packages (from py2neo) (1.7.15)\n",
            "Requirement already satisfied, skipping upgrade: colorama in /usr/local/lib/python3.6/dist-packages (from py2neo) (0.4.3)\n",
            "Requirement already satisfied, skipping upgrade: certifi in /usr/local/lib/python3.6/dist-packages (from py2neo) (2019.11.28)\n",
            "Requirement already satisfied, skipping upgrade: neotime~=1.7.4 in /usr/local/lib/python3.6/dist-packages (from py2neo) (1.7.4)\n",
            "Requirement already satisfied, skipping upgrade: six>=1.9.0 in /usr/local/lib/python3.6/dist-packages (from prompt-toolkit~=2.0.7->py2neo) (1.12.0)\n",
            "Requirement already satisfied, skipping upgrade: wcwidth in /usr/local/lib/python3.6/dist-packages (from prompt-toolkit~=2.0.7->py2neo) (0.1.7)\n"
          ],
          "name": "stdout"
        }
      ]
    },
    {
      "cell_type": "markdown",
      "metadata": {
        "id": "Qg-wQsWtfxDV",
        "colab_type": "text"
      },
      "source": [
        "**2.import data**"
      ]
    },
    {
      "cell_type": "code",
      "metadata": {
        "id": "Q8Xbv-KqTWxF",
        "colab_type": "code",
        "outputId": "1fe041e7-2d30-4649-a71a-872f60c3c94b",
        "colab": {
          "base_uri": "https://localhost:8080/",
          "height": 34
        }
      },
      "source": [
        "graph.run(\"CREATE CONSTRAINT ON (c:Character) ASSERT c.name IS UNIQUE;\")\n",
        "for record in graph.run('''\n",
        "LOAD CSV WITH HEADERS FROM \"https://www.macalester.edu/~abeverid/data/stormofswords.csv\" AS row\n",
        "MERGE (src:Character {name: row.Source})\n",
        "MERGE (tgt:Character {name: row.Target})\n",
        "MERGE (src)-[r:INTERACTS]->(tgt)\n",
        "SET r.weight = toInt(row.Weight)\n",
        "RETURN count(*) AS paths_written\n",
        "'''):\n",
        "    print(record)"
      ],
      "execution_count": 0,
      "outputs": [
        {
          "output_type": "stream",
          "text": [
            "<Record paths_written=352>\n"
          ],
          "name": "stdout"
        }
      ]
    },
    {
      "cell_type": "code",
      "metadata": {
        "id": "9gim83fNPpDp",
        "colab_type": "code",
        "colab": {}
      },
      "source": [
        "for record in graph.run('''\n",
        "LOAD CSV WITH HEADERS FROM \"https://raw.githubusercontent.com/mathbeveridge/asoiaf/master/data/asoiaf-book1-edges.csv\" AS row\n",
        "MATCH (src:Character {name: row.Source})\n",
        "MATCH (tgt:Character {name: row.Target})\n",
        "// relationship for the book\n",
        "MERGE (src)-[r:INTERACTS1]->(tgt) ON CREATE SET r.weight = toInt(row.weight), r.book=1\n",
        "'''):\n",
        "    print(record)"
      ],
      "execution_count": 0,
      "outputs": []
    },
    {
      "cell_type": "code",
      "metadata": {
        "id": "lecPXDHDTjbR",
        "colab_type": "code",
        "colab": {}
      },
      "source": [
        "graph.run(\"CREATE CONSTRAINT ON (c:Character) ASSERT c.name IS UNIQUE;\")\n",
        "\n",
        "for record in graph.run('''\n",
        "LOAD CSV WITH HEADERS FROM \"https://raw.githubusercontent.com/mathbeveridge/asoiaf/master/data/asoiaf-book2-edges.csv\" AS row\n",
        "MATCH (src:Character {name: row.Source})\n",
        "MATCH (tgt:Character {name: row.Target})\n",
        "// relationship for the book\n",
        "MERGE (src)-[r:INTERACTS2]->(tgt) ON CREATE SET r.weight = toInt(row.weight), r.book=2\n",
        "'''):\n",
        "    print(record)"
      ],
      "execution_count": 0,
      "outputs": []
    },
    {
      "cell_type": "code",
      "metadata": {
        "id": "tvLBt-HgTn1Y",
        "colab_type": "code",
        "colab": {}
      },
      "source": [
        "graph.run(\"CREATE CONSTRAINT ON (c:Character) ASSERT c.name IS UNIQUE;\")\n",
        "\n",
        "for record in graph.run('''\n",
        "LOAD CSV WITH HEADERS FROM \"https://raw.githubusercontent.com/mathbeveridge/asoiaf/master/data/asoiaf-book3-edges.csv\" AS row\n",
        "MATCH (src:Character {name: row.Source})\n",
        "MATCH (tgt:Character {name: row.Target})\n",
        "// relationship for the book\n",
        "MERGE (src)-[r:INTERACTS3]->(tgt) ON CREATE SET r.weight = toInt(row.weight), r.book=3\n",
        "'''):\n",
        "    print(record)"
      ],
      "execution_count": 0,
      "outputs": []
    },
    {
      "cell_type": "code",
      "metadata": {
        "id": "qOdj4x0ETrf2",
        "colab_type": "code",
        "colab": {}
      },
      "source": [
        "graph.run(\"CREATE CONSTRAINT ON (c:Character) ASSERT c.name IS UNIQUE;\")\n",
        "\n",
        "for record in graph.run('''\n",
        "LOAD CSV WITH HEADERS FROM \"https://raw.githubusercontent.com/mathbeveridge/asoiaf/master/data/asoiaf-book45-edges.csv\" AS row\n",
        "MATCH (src:Character {name: row.Source})\n",
        "MATCH (tgt:Character {name: row.Target})\n",
        "// relationship for the book\n",
        "MERGE (src)-[r:INTERACTS45]->(tgt) ON CREATE SET r.weight = toInt(row.weight), r.book=45\n",
        "'''):\n",
        "    print(record)"
      ],
      "execution_count": 0,
      "outputs": []
    },
    {
      "cell_type": "markdown",
      "metadata": {
        "id": "wdKDF761f8i0",
        "colab_type": "text"
      },
      "source": [
        "**3. get any character interacts with other character**"
      ]
    },
    {
      "cell_type": "code",
      "metadata": {
        "id": "9IL36sGlTPj7",
        "colab_type": "code",
        "outputId": "d108c08c-d0f0-46ad-91b7-2c9ac6b3ad34",
        "colab": {
          "base_uri": "https://localhost:8080/",
          "height": 1000
        }
      },
      "source": [
        "for r in graph.run('''\n",
        "MATCH p=(:Character)-[:INTERACTS]-(:Character)\n",
        "RETURN p\n",
        "'''):\n",
        "    print(r)"
      ],
      "execution_count": 0,
      "outputs": [
        {
          "output_type": "stream",
          "text": [
            "<Record p=(Belwas)<-[:INTERACTS {weight: 13}]-(Jorah)>\n",
            "<Record p=(Belwas)<-[:INTERACTS {weight: 26}]-(Daenerys)>\n",
            "<Record p=(Belwas)-[:INTERACTS {weight: 10}]->(Illyrio)>\n",
            "<Record p=(Belwas)-[:INTERACTS {weight: 18}]->(Barristan)>\n",
            "<Record p=(Beric)<-[:INTERACTS {weight: 15}]-(Sandor)>\n",
            "<Record p=(Beric)<-[:INTERACTS {weight: 23}]-(Arya)>\n",
            "<Record p=(Beric)<-[:INTERACTS {weight: 8}]-(Eddard)>\n",
            "<Record p=(Beric)-[:INTERACTS {weight: 21}]->(Thoros)>\n",
            "<Record p=(Beric)-[:INTERACTS {weight: 4}]->(Gendry)>\n",
            "<Record p=(Beric)-[:INTERACTS {weight: 4}]->(Anguy)>\n",
            "<Record p=(Bran)<-[:INTERACTS {weight: 10}]-(Sansa)>\n",
            "<Record p=(Bran)<-[:INTERACTS {weight: 9}]-(Arya)>\n",
            "<Record p=(Bran)<-[:INTERACTS {weight: 23}]-(Robb)>\n",
            "<Record p=(Bran)<-[:INTERACTS {weight: 15}]-(Eddard)>\n",
            "<Record p=(Bran)<-[:INTERACTS {weight: 4}]-(Catelyn)>\n",
            "<Record p=(Bran)-[:INTERACTS {weight: 11}]->(Samwell)>\n",
            "<Record p=(Bran)-[:INTERACTS {weight: 11}]->(Theon)>\n",
            "<Record p=(Bran)-[:INTERACTS {weight: 14}]->(Nan)>\n",
            "<Record p=(Bran)-[:INTERACTS {weight: 35}]->(Rickon)>\n",
            "<Record p=(Bran)-[:INTERACTS {weight: 54}]->(Meera)>\n",
            "<Record p=(Bran)-[:INTERACTS {weight: 4}]->(Luwin)>\n",
            "<Record p=(Bran)-[:INTERACTS {weight: 12}]->(Jon)>\n",
            "<Record p=(Bran)-[:INTERACTS {weight: 46}]->(Jojen)>\n",
            "<Record p=(Bran)-[:INTERACTS {weight: 96}]->(Hodor)>\n",
            "<Record p=(Brienne)<-[:INTERACTS {weight: 5}]-(Sansa)>\n",
            "<Record p=(Brienne)<-[:INTERACTS {weight: 4}]-(Roose)>\n",
            "<Record p=(Brienne)<-[:INTERACTS {weight: 6}]-(Robb)>\n",
            "<Record p=(Brienne)<-[:INTERACTS {weight: 88}]-(Jaime)>\n",
            "<Record p=(Brienne)<-[:INTERACTS {weight: 5}]-(Cersei)>\n",
            "<Record p=(Brienne)<-[:INTERACTS {weight: 7}]-(Catelyn)>\n",
            "<Record p=(Brienne)-[:INTERACTS {weight: 7}]->(Loras)>\n",
            "<Record p=(Bronn)<-[:INTERACTS {weight: 31}]-(Tyrion)>\n",
            "<Record p=(Bronn)<-[:INTERACTS {weight: 4}]-(Cersei)>\n",
            "<Record p=(Bronn)-[:INTERACTS {weight: 19}]->(Podrick)>\n",
            "<Record p=(Bronn)-[:INTERACTS {weight: 5}]->(Gregor)>\n",
            "<Record p=(Brynden)<-[:INTERACTS {weight: 4}]-(Tywin)>\n",
            "<Record p=(Brynden)<-[:INTERACTS {weight: 6}]-(Arya)>\n",
            "<Record p=(Brynden)<-[:INTERACTS {weight: 4}]-(Rickard)>\n",
            "<Record p=(Brynden)<-[:INTERACTS {weight: 17}]-(Robb)>\n",
            "<Record p=(Brynden)<-[:INTERACTS {weight: 7}]-(Edmure)>\n",
            "<Record p=(Brynden)<-[:INTERACTS {weight: 8}]-(Catelyn)>\n",
            "<Record p=(Brynden)-[:INTERACTS {weight: 5}]->(Walder)>\n",
            "<Record p=(Brynden)-[:INTERACTS {weight: 4}]->(Lothar)>\n",
            "<Record p=(Catelyn)<-[:INTERACTS {weight: 5}]-(Eddard)>\n",
            "<Record p=(Catelyn)-[:INTERACTS {weight: 19}]->(Walder)>\n",
            "<Record p=(Catelyn)-[:INTERACTS {weight: 5}]->(Tyrion)>\n",
            "<Record p=(Catelyn)-[:INTERACTS {weight: 6}]->(Roslin)>\n",
            "<Record p=(Catelyn)-[:INTERACTS {weight: 4}]->(Roose)>\n",
            "<Record p=(Catelyn)-[:INTERACTS {weight: 4}]->(Stannis)>\n",
            "<Record p=(Catelyn)-[:INTERACTS {weight: 8}]->(Sansa)>\n",
            "<Record p=(Catelyn)-[:INTERACTS {weight: 8}]->(Lysa)>\n",
            "<Record p=(Catelyn)-[:INTERACTS {weight: 10}]->(Jeyne)>\n",
            "<Record p=(Catelyn)-[:INTERACTS {weight: 43}]->(Robb)>\n",
            "<Record p=(Catelyn)-[:INTERACTS {weight: 5}]->(Petyr)>\n",
            "<Record p=(Catelyn)-[:INTERACTS {weight: 9}]->(Hoster)>\n",
            "<Record p=(Catelyn)-[:INTERACTS {weight: 19}]->(Jaime)>\n",
            "<Record p=(Catelyn)-[:INTERACTS {weight: 4}]->(Cersei)>\n",
            "<Record p=(Catelyn)-[:INTERACTS {weight: 16}]->(Edmure)>\n",
            "<Record p=(Catelyn)-[:INTERACTS {weight: 7}]->(Brienne)>\n",
            "<Record p=(Catelyn)-[:INTERACTS {weight: 8}]->(Brynden)>\n",
            "<Record p=(Catelyn)-[:INTERACTS {weight: 4}]->(Bran)>\n",
            "<Record p=(Cersei)<-[:INTERACTS {weight: 16}]-(Tywin)>\n",
            "<Record p=(Cersei)<-[:INTERACTS {weight: 16}]-(Sansa)>\n",
            "<Record p=(Cersei)<-[:INTERACTS {weight: 5}]-(Arya)>\n",
            "<Record p=(Cersei)<-[:INTERACTS {weight: 4}]-(Lysa)>\n",
            "<Record p=(Cersei)<-[:INTERACTS {weight: 6}]-(Eddard)>\n",
            "<Record p=(Cersei)-[:INTERACTS {weight: 6}]->(Sandor)>\n",
            "<Record p=(Cersei)-[:INTERACTS {weight: 4}]->(Shae)>\n",
            "<Record p=(Cersei)-[:INTERACTS {weight: 46}]->(Tyrion)>\n",
            "<Record p=(Cersei)-[:INTERACTS {weight: 4}]->(Varys)>\n",
            "<Record p=(Cersei)-[:INTERACTS {weight: 23}]->(Joffrey)>\n",
            "<Record p=(Cersei)-[:INTERACTS {weight: 10}]->(Meryn)>\n",
            "<Record p=(Cersei)-[:INTERACTS {weight: 4}]->(Pycelle)>\n",
            "<Record p=(Cersei)-[:INTERACTS {weight: 16}]->(Robert)>\n",
            "<Record p=(Cersei)-[:INTERACTS {weight: 6}]->(Gregor)>\n",
            "<Record p=(Cersei)-[:INTERACTS {weight: 4}]->(Elia)>\n",
            "<Record p=(Cersei)-[:INTERACTS {weight: 36}]->(Jaime)>\n",
            "<Record p=(Cersei)-[:INTERACTS {weight: 7}]->(Ilyn)>\n",
            "<Record p=(Cersei)-[:INTERACTS {weight: 4}]->(Bronn)>\n",
            "<Record p=(Cersei)-[:INTERACTS {weight: 5}]->(Brienne)>\n",
            "<Record p=(Cersei)<-[:INTERACTS {weight: 4}]-(Catelyn)>\n",
            "<Record p=(Craster)<-[:INTERACTS {weight: 34}]-(Samwell)>\n",
            "<Record p=(Craster)<-[:INTERACTS {weight: 11}]-(Mance)>\n",
            "<Record p=(Craster)<-[:INTERACTS {weight: 7}]-(Jon)>\n",
            "<Record p=(Craster)<-[:INTERACTS {weight: 17}]-(Gilly)>\n",
            "<Record p=(Craster)-[:INTERACTS {weight: 6}]->(Karl)>\n",
            "<Record p=(Daario)<-[:INTERACTS {weight: 7}]-(Jorah)>\n",
            "<Record p=(Daario)<-[:INTERACTS {weight: 14}]-(Daenerys)>\n",
            "<Record p=(Daario)-[:INTERACTS {weight: 4}]->(Drogo)>\n",
            "<Record p=(Daario)-[:INTERACTS {weight: 5}]->(Irri)>\n",
            "<Record p=(Daenerys)-[:INTERACTS {weight: 14}]->(Worm)>\n",
            "<Record p=(Daenerys)-[:INTERACTS {weight: 26}]->(Missandei)>\n",
            "<Record p=(Daenerys)-[:INTERACTS {weight: 10}]->(Kraznys)>\n",
            "<Record p=(Daenerys)-[:INTERACTS {weight: 47}]->(Jorah)>\n",
            "<Record p=(Daenerys)-[:INTERACTS {weight: 17}]->(Irri)>\n",
            "<Record p=(Daenerys)-[:INTERACTS {weight: 8}]->(Viserys)>\n",
            "<Record p=(Daenerys)-[:INTERACTS {weight: 5}]->(Robert)>\n",
            "<Record p=(Daenerys)-[:INTERACTS {weight: 12}]->(Rhaegar)>\n",
            "<Record p=(Daenerys)-[:INTERACTS {weight: 7}]->(Rakharo)>\n",
            "<Record p=(Daenerys)-[:INTERACTS {weight: 20}]->(Barristan)>\n",
            "<Record p=(Daenerys)-[:INTERACTS {weight: 26}]->(Belwas)>\n",
            "<Record p=(Daenerys)-[:INTERACTS {weight: 14}]->(Daario)>\n",
            "<Record p=(Daenerys)-[:INTERACTS {weight: 18}]->(Drogo)>\n",
            "<Record p=(Daenerys)-[:INTERACTS {weight: 8}]->(Aegon)>\n",
            "<Record p=(Davos)<-[:INTERACTS {weight: 5}]-(Shireen)>\n",
            "<Record p=(Davos)<-[:INTERACTS {weight: 32}]-(Stannis)>\n",
            "<Record p=(Davos)<-[:INTERACTS {weight: 30}]-(Melisandre)>\n",
            "<Record p=(Davos)-[:INTERACTS {weight: 16}]->(Salladhor)>\n",
            "<Record p=(Davos)-[:INTERACTS {weight: 4}]->(Cressen)>\n",
            "<Record p=(Eddard)-[:INTERACTS {weight: 8}]->(Rickon)>\n",
            "<Record p=(Eddard)-[:INTERACTS {weight: 13}]->(Robb)>\n",
            "<Record p=(Eddard)-[:INTERACTS {weight: 6}]->(Jaime)>\n",
            "<Record p=(Eddard)-[:INTERACTS {weight: 8}]->(Jon)>\n",
            "<Record p=(Eddard)-[:INTERACTS {weight: 6}]->(Sansa)>\n",
            "<Record p=(Eddard)-[:INTERACTS {weight: 10}]->(Robert)>\n",
            "<Record p=(Eddard)-[:INTERACTS {weight: 5}]->(Sandor)>\n",
            "<Record p=(Eddard)-[:INTERACTS {weight: 18}]->(Arya)>\n",
            "<Record p=(Eddard)-[:INTERACTS {weight: 6}]->(Cersei)>\n",
            "<Record p=(Eddard)-[:INTERACTS {weight: 5}]->(Catelyn)>\n",
            "<Record p=(Eddard)-[:INTERACTS {weight: 15}]->(Bran)>\n",
            "<Record p=(Eddard)-[:INTERACTS {weight: 8}]->(Beric)>\n",
            "<Record p=(Eddison)<-[:INTERACTS {weight: 12}]-(Samwell)>\n",
            "<Record p=(Eddison)<-[:INTERACTS {weight: 4}]-(Jon)>\n",
            "<Record p=(Eddison)-[:INTERACTS {weight: 8}]->(Grenn)>\n",
            "<Record p=(Edmure)<-[:INTERACTS {weight: 32}]-(Robb)>\n",
            "<Record p=(Edmure)<-[:INTERACTS {weight: 5}]-(Jaime)>\n",
            "<Record p=(Edmure)<-[:INTERACTS {weight: 9}]-(Hoster)>\n",
            "<Record p=(Edmure)-[:INTERACTS {weight: 16}]->(Roslin)>\n",
            "<Record p=(Edmure)-[:INTERACTS {weight: 9}]->(Walder)>\n",
            "<Record p=(Edmure)-[:INTERACTS {weight: 7}]->(Brynden)>\n",
            "<Record p=(Edmure)-[:INTERACTS {weight: 4}]->(Lothar)>\n",
            "<Record p=(Edmure)<-[:INTERACTS {weight: 16}]-(Catelyn)>\n",
            "<Record p=(Gendry)<-[:INTERACTS {weight: 5}]-(Sandor)>\n",
            "<Record p=(Gendry)<-[:INTERACTS {weight: 43}]-(Arya)>\n",
            "<Record p=(Gendry)-[:INTERACTS {weight: 7}]->(Thoros)>\n",
            "<Record p=(Gendry)<-[:INTERACTS {weight: 4}]-(Beric)>\n",
            "<Record p=(Gilly)<-[:INTERACTS {weight: 36}]-(Samwell)>\n",
            "<Record p=(Gilly)<-[:INTERACTS {weight: 7}]-(Mance)>\n",
            "<Record p=(Gilly)<-[:INTERACTS {weight: 9}]-(Jon)>\n",
            "<Record p=(Gilly)-[:INTERACTS {weight: 17}]->(Craster)>\n",
            "<Record p=(Gregor)<-[:INTERACTS {weight: 7}]-(Tywin)>\n",
            "<Record p=(Gregor)<-[:INTERACTS {weight: 22}]-(Tyrion)>\n",
            "<Record p=(Gregor)<-[:INTERACTS {weight: 7}]-(Arya)>\n",
            "<Record p=(Gregor)<-[:INTERACTS {weight: 5}]-(Joffrey)>\n",
            "<Record p=(Gregor)<-[:INTERACTS {weight: 6}]-(Jaime)>\n",
            "<Record p=(Gregor)-[:INTERACTS {weight: 24}]->(Oberyn)>\n",
            "<Record p=(Gregor)-[:INTERACTS {weight: 7}]->(Meryn)>\n",
            "<Record p=(Gregor)-[:INTERACTS {weight: 12}]->(Sandor)>\n",
            "<Record p=(Gregor)-[:INTERACTS {weight: 9}]->(Elia)>\n",
            "<Record p=(Gregor)-[:INTERACTS {weight: 7}]->(Ilyn)>\n",
            "<Record p=(Gregor)<-[:INTERACTS {weight: 6}]-(Cersei)>\n",
            "<Record p=(Gregor)<-[:INTERACTS {weight: 5}]-(Bronn)>\n",
            "<Record p=(Hodor)<-[:INTERACTS {weight: 5}]-(Robb)>\n",
            "<Record p=(Hodor)-[:INTERACTS {weight: 35}]->(Jojen)>\n",
            "<Record p=(Hodor)-[:INTERACTS {weight: 41}]->(Meera)>\n",
            "<Record p=(Hodor)<-[:INTERACTS {weight: 96}]-(Bran)>\n",
            "<Record p=(Hoster)<-[:INTERACTS {weight: 6}]-(Lysa)>\n",
            "<Record p=(Hoster)-[:INTERACTS {weight: 9}]->(Edmure)>\n",
            "<Record p=(Hoster)<-[:INTERACTS {weight: 9}]-(Catelyn)>\n",
            "<Record p=(Irri)<-[:INTERACTS {weight: 4}]-(Missandei)>\n",
            "<Record p=(Irri)-[:INTERACTS {weight: 7}]->(Drogo)>\n",
            "<Record p=(Irri)<-[:INTERACTS {weight: 17}]-(Daenerys)>\n",
            "<Record p=(Irri)<-[:INTERACTS {weight: 5}]-(Daario)>\n",
            "<Record p=(Jaime)<-[:INTERACTS {weight: 10}]-(Walton)>\n",
            "<Record p=(Jaime)<-[:INTERACTS {weight: 13}]-(Tywin)>\n",
            "<Record p=(Jaime)<-[:INTERACTS {weight: 10}]-(Sansa)>\n",
            "<Record p=(Jaime)<-[:INTERACTS {weight: 15}]-(Robb)>\n",
            "<Record p=(Jaime)<-[:INTERACTS {weight: 11}]-(Arya)>\n",
            "<Record p=(Jaime)<-[:INTERACTS {weight: 18}]-(Aerys)>\n",
            "<Record p=(Jaime)-[:INTERACTS {weight: 11}]->(Qyburn)>\n",
            "<Record p=(Jaime)-[:INTERACTS {weight: 7}]->(Renly)>\n",
            "<Record p=(Jaime)-[:INTERACTS {weight: 17}]->(Robert)>\n",
            "<Record p=(Jaime)-[:INTERACTS {weight: 5}]->(Stannis)>\n",
            "<Record p=(Jaime)-[:INTERACTS {weight: 8}]->(Tommen)>\n",
            "<Record p=(Jaime)-[:INTERACTS {weight: 31}]->(Tyrion)>\n",
            "<Record p=(Jaime)-[:INTERACTS {weight: 88}]->(Brienne)>\n",
            "<Record p=(Jaime)-[:INTERACTS {weight: 4}]->(Barristan)>\n",
            "<Record p=(Jaime)-[:INTERACTS {weight: 4}]->(Elia)>\n",
            "<Record p=(Jaime)-[:INTERACTS {weight: 5}]->(Edmure)>\n",
            "<Record p=(Jaime)-[:INTERACTS {weight: 15}]->(Joffrey)>\n",
            "<Record p=(Jaime)-[:INTERACTS {weight: 6}]->(Gregor)>\n",
            "<Record p=(Jaime)-[:INTERACTS {weight: 11}]->(Meryn)>\n",
            "<Record p=(Jaime)-[:INTERACTS {weight: 16}]->(Loras)>\n",
            "<Record p=(Jaime)-[:INTERACTS {weight: 6}]->(Balon)>\n",
            "<Record p=(Jaime)<-[:INTERACTS {weight: 6}]-(Eddard)>\n",
            "<Record p=(Jaime)<-[:INTERACTS {weight: 36}]-(Cersei)>\n",
            "<Record p=(Jaime)<-[:INTERACTS {weight: 19}]-(Catelyn)>\n",
            "<Record p=(Janos)<-[:INTERACTS {weight: 5}]-(Tyrion)>\n",
            "<Record p=(Janos)<-[:INTERACTS {weight: 6}]-(Samwell)>\n",
            "<Record p=(Janos)<-[:INTERACTS {weight: 8}]-(Jon)>\n",
            "<Record p=(Janos)-[:INTERACTS {weight: 4}]->(Mance)>\n",
            "<Record p=(Janos)-[:INTERACTS {weight: 9}]->(Alliser)>\n",
            "<Record p=(Janos)-[:INTERACTS {weight: 5}]->(Bowen)>\n",
            "<Record p=(Joffrey)<-[:INTERACTS {weight: 13}]-(Tywin)>\n",
            "<Record p=(Joffrey)<-[:INTERACTS {weight: 35}]-(Sansa)>\n",
            "<Record p=(Joffrey)<-[:INTERACTS {weight: 10}]-(Robb)>\n",
            "<Record p=(Joffrey)<-[:INTERACTS {weight: 6}]-(Arya)>\n",
            "<Record p=(Joffrey)-[:INTERACTS {weight: 54}]->(Tyrion)>\n",
            "<Record p=(Joffrey)-[:INTERACTS {weight: 10}]->(Stannis)>\n",
            "<Record p=(Joffrey)-[:INTERACTS {weight: 9}]->(Tommen)>\n",
            "<Record p=(Joffrey)-[:INTERACTS {weight: 4}]->(Oberyn)>\n",
            "<Record p=(Joffrey)-[:INTERACTS {weight: 14}]->(Sandor)>\n",
            "<Record p=(Joffrey)-[:INTERACTS {weight: 5}]->(Gregor)>\n",
            "<Record p=(Joffrey)-[:INTERACTS {weight: 4}]->(Ilyn)>\n",
            "<Record p=(Joffrey)-[:INTERACTS {weight: 8}]->(Kevan)>\n",
            "<Record p=(Joffrey)-[:INTERACTS {weight: 7}]->(Loras)>\n",
            "<Record p=(Joffrey)-[:INTERACTS {weight: 28}]->(Margaery)>\n",
            "<Record p=(Joffrey)-[:INTERACTS {weight: 5}]->(Meryn)>\n",
            "<Record p=(Joffrey)-[:INTERACTS {weight: 5}]->(Myrcella)>\n",
            "<Record p=(Joffrey)<-[:INTERACTS {weight: 15}]-(Jaime)>\n",
            "<Record p=(Joffrey)<-[:INTERACTS {weight: 23}]-(Cersei)>\n",
            "<Record p=(Jojen)-[:INTERACTS {weight: 11}]->(Samwell)>\n",
            "<Record p=(Jojen)-[:INTERACTS {weight: 33}]->(Meera)>\n",
            "<Record p=(Jojen)<-[:INTERACTS {weight: 35}]-(Hodor)>\n",
            "<Record p=(Jojen)<-[:INTERACTS {weight: 46}]-(Bran)>\n",
            "<Record p=(Jon)<-[:INTERACTS {weight: 4}]-(Sansa)>\n",
            "<Record p=(Jon)<-[:INTERACTS {weight: 14}]-(Robb)>\n",
            "<Record p=(Jon)<-[:INTERACTS {weight: 7}]-(Arya)>\n",
            "<Record p=(Jon)-[:INTERACTS {weight: 9}]->(Stannis)>\n",
            "<Record p=(Jon)-[:INTERACTS {weight: 52}]->(Samwell)>\n",
            "<Record p=(Jon)-[:INTERACTS {weight: 5}]->(Robert)>\n",
            "<Record p=(Jon)-[:INTERACTS {weight: 20}]->(Rattleshirt)>\n",
            "<Record p=(Jon)-[:INTERACTS {weight: 31}]->(Qhorin)>\n",
            "<Record p=(Jon)-[:INTERACTS {weight: 6}]->(Orell)>\n",
            "<Record p=(Jon)-[:INTERACTS {weight: 7}]->(Melisandre)>\n",
            "<Record p=(Jon)-[:INTERACTS {weight: 4}]->(Meera)>\n",
            "<Record p=(Jon)-[:INTERACTS {weight: 54}]->(Ygritte)>\n",
            "<Record p=(Jon)-[:INTERACTS {weight: 12}]->(Val)>\n",
            "<Record p=(Jon)-[:INTERACTS {weight: 8}]->(Theon)>\n",
            "<Record p=(Jon)-[:INTERACTS {weight: 16}]->(Styr)>\n",
            "<Record p=(Jon)-[:INTERACTS {weight: 30}]->(Aemon)>\n",
            "<Record p=(Jon)-[:INTERACTS {weight: 8}]->(Janos)>\n",
            "<Record p=(Jon)-[:INTERACTS {weight: 69}]->(Mance)>\n",
            "<Record p=(Jon)-[:INTERACTS {weight: 9}]->(Gilly)>\n",
            "<Record p=(Jon)-[:INTERACTS {weight: 25}]->(Grenn)>\n",
            "<Record p=(Jon)-[:INTERACTS {weight: 6}]->(Dalla)>\n",
            "<Record p=(Jon)-[:INTERACTS {weight: 4}]->(Eddison)>\n",
            "<Record p=(Jon)-[:INTERACTS {weight: 15}]->(Alliser)>\n",
            "<Record p=(Jon)-[:INTERACTS {weight: 7}]->(Craster)>\n",
            "<Record p=(Jon)<-[:INTERACTS {weight: 8}]-(Eddard)>\n",
            "<Record p=(Jon)<-[:INTERACTS {weight: 12}]-(Bran)>\n",
            "<Record p=(Jon Arryn)-[:INTERACTS {weight: 6}]->(Robert)>\n",
            "<Record p=(Jon Arryn)-[:INTERACTS {weight: 5}]->(Lysa)>\n",
            "<Record p=(Jorah)<-[:INTERACTS {weight: 5}]-(Rhaegar)>\n",
            "<Record p=(Jorah)-[:INTERACTS {weight: 7}]->(Daario)>\n",
            "<Record p=(Jorah)-[:INTERACTS {weight: 6}]->(Drogo)>\n",
            "<Record p=(Jorah)-[:INTERACTS {weight: 13}]->(Belwas)>\n",
            "<Record p=(Jorah)-[:INTERACTS {weight: 11}]->(Barristan)>\n",
            "<Record p=(Jorah)<-[:INTERACTS {weight: 47}]-(Daenerys)>\n",
            "<Record p=(Kevan)<-[:INTERACTS {weight: 11}]-(Tyrion)>\n",
            "<Record p=(Kevan)<-[:INTERACTS {weight: 14}]-(Tywin)>\n",
            "<Record p=(Kevan)<-[:INTERACTS {weight: 5}]-(Sansa)>\n",
            "<Record p=(Kevan)-[:INTERACTS {weight: 7}]->(Lancel)>\n",
            "<Record p=(Kevan)-[:INTERACTS {weight: 5}]->(Varys)>\n",
            "<Record p=(Kevan)<-[:INTERACTS {weight: 8}]-(Joffrey)>\n",
            "<Record p=(Loras)<-[:INTERACTS {weight: 6}]-(Tyrion)>\n",
            "<Record p=(Loras)<-[:INTERACTS {weight: 14}]-(Sansa)>\n",
            "<Record p=(Loras)<-[:INTERACTS {weight: 8}]-(Renly)>\n",
            "<Record p=(Loras)-[:INTERACTS {weight: 9}]->(Margaery)>\n",
            "<Record p=(Loras)-[:INTERACTS {weight: 5}]->(Olenna)>\n",
            "<Record p=(Loras)<-[:INTERACTS {weight: 7}]-(Joffrey)>\n",
            "<Record p=(Loras)<-[:INTERACTS {weight: 16}]-(Jaime)>\n",
            "<Record p=(Loras)<-[:INTERACTS {weight: 7}]-(Brienne)>\n",
            "<Record p=(Loras)<-[:INTERACTS {weight: 4}]-(Balon)>\n",
            "<Record p=(Lothar)<-[:INTERACTS {weight: 12}]-(Walder)>\n",
            "<Record p=(Lothar)<-[:INTERACTS {weight: 10}]-(Robb)>\n",
            "<Record p=(Lothar)-[:INTERACTS {weight: 4}]->(Roslin)>\n",
            "<Record p=(Lothar)<-[:INTERACTS {weight: 4}]-(Edmure)>\n",
            "<Record p=(Lothar)<-[:INTERACTS {weight: 4}]-(Brynden)>\n",
            "<Record p=(Luwin)-[:INTERACTS {weight: 4}]->(Nan)>\n",
            "<Record p=(Luwin)<-[:INTERACTS {weight: 4}]-(Bran)>\n",
            "<Record p=(Lysa)<-[:INTERACTS {weight: 28}]-(Sansa)>\n",
            "<Record p=(Lysa)-[:INTERACTS {weight: 9}]->(Robert Arryn)>\n",
            "<Record p=(Lysa)-[:INTERACTS {weight: 5}]->(Tyrion)>\n",
            "<Record p=(Lysa)-[:INTERACTS {weight: 4}]->(Tywin)>\n",
            "<Record p=(Lysa)-[:INTERACTS {weight: 4}]->(Cersei)>\n",
            "<Record p=(Lysa)-[:INTERACTS {weight: 6}]->(Hoster)>\n",
            "<Record p=(Lysa)-[:INTERACTS {weight: 10}]->(Marillion)>\n",
            "<Record p=(Lysa)-[:INTERACTS {weight: 29}]->(Petyr)>\n",
            "<Record p=(Lysa)<-[:INTERACTS {weight: 5}]-(Jon Arryn)>\n",
            "<Record p=(Lysa)<-[:INTERACTS {weight: 8}]-(Catelyn)>\n",
            "<Record p=(Mance)<-[:INTERACTS {weight: 10}]-(Samwell)>\n",
            "<Record p=(Mance)<-[:INTERACTS {weight: 5}]-(Alliser)>\n",
            "<Record p=(Mance)-[:INTERACTS {weight: 8}]->(Val)>\n",
            "<Record p=(Mance)-[:INTERACTS {weight: 7}]->(Styr)>\n",
            "<Record p=(Mance)-[:INTERACTS {weight: 12}]->(Ygritte)>\n",
            "<Record p=(Mance)-[:INTERACTS {weight: 7}]->(Gilly)>\n",
            "<Record p=(Mance)-[:INTERACTS {weight: 8}]->(Dalla)>\n",
            "<Record p=(Mance)-[:INTERACTS {weight: 9}]->(Rattleshirt)>\n",
            "<Record p=(Mance)-[:INTERACTS {weight: 10}]->(Qhorin)>\n",
            "<Record p=(Mance)-[:INTERACTS {weight: 11}]->(Craster)>\n",
            "<Record p=(Mance)<-[:INTERACTS {weight: 69}]-(Jon)>\n",
            "<Record p=(Mance)<-[:INTERACTS {weight: 4}]-(Janos)>\n",
            "<Record p=(Meera)-[:INTERACTS {weight: 7}]->(Samwell)>\n",
            "<Record p=(Meera)<-[:INTERACTS {weight: 4}]-(Jon)>\n",
            "<Record p=(Meera)<-[:INTERACTS {weight: 33}]-(Jojen)>\n",
            "<Record p=(Meera)<-[:INTERACTS {weight: 41}]-(Hodor)>\n",
            "<Record p=(Meera)<-[:INTERACTS {weight: 54}]-(Bran)>\n",
            "<Record p=(Melisandre)<-[:INTERACTS {weight: 20}]-(Stannis)>\n",
            "<Record p=(Melisandre)-[:INTERACTS {weight: 5}]->(Samwell)>\n",
            "<Record p=(Melisandre)-[:INTERACTS {weight: 30}]->(Davos)>\n",
            "<Record p=(Melisandre)<-[:INTERACTS {weight: 7}]-(Jon)>\n",
            "<Record p=(Meryn)<-[:INTERACTS {weight: 5}]-(Tyrion)>\n",
            "<Record p=(Meryn)<-[:INTERACTS {weight: 4}]-(Sandor)>\n",
            "<Record p=(Meryn)-[:INTERACTS {weight: 5}]->(Ilyn)>\n",
            "<Record p=(Meryn)<-[:INTERACTS {weight: 5}]-(Joffrey)>\n",
            "<Record p=(Meryn)<-[:INTERACTS {weight: 11}]-(Jaime)>\n",
            "<Record p=(Meryn)<-[:INTERACTS {weight: 7}]-(Gregor)>\n",
            "<Record p=(Meryn)<-[:INTERACTS {weight: 10}]-(Cersei)>\n",
            "<Record p=(Missandei)-[:INTERACTS {weight: 4}]->(Irri)>\n",
            "<Record p=(Missandei)<-[:INTERACTS {weight: 26}]-(Daenerys)>\n",
            "<Record p=(Myrcella)<-[:INTERACTS {weight: 4}]-(Sansa)>\n",
            "<Record p=(Myrcella)-[:INTERACTS {weight: 4}]->(Tyrion)>\n",
            "<Record p=(Myrcella)-[:INTERACTS {weight: 5}]->(Tommen)>\n",
            "<Record p=(Myrcella)<-[:INTERACTS {weight: 5}]-(Joffrey)>\n",
            "<Record p=(Oberyn)<-[:INTERACTS {weight: 25}]-(Tyrion)>\n",
            "<Record p=(Oberyn)<-[:INTERACTS {weight: 6}]-(Tywin)>\n",
            "<Record p=(Oberyn)<-[:INTERACTS {weight: 5}]-(Amory)>\n",
            "<Record p=(Oberyn)-[:INTERACTS {weight: 6}]->(Mace)>\n",
            "<Record p=(Oberyn)-[:INTERACTS {weight: 6}]->(Ellaria)>\n",
            "<Record p=(Oberyn)<-[:INTERACTS {weight: 4}]-(Joffrey)>\n",
            "<Record p=(Oberyn)<-[:INTERACTS {weight: 24}]-(Gregor)>\n",
            "<Record p=(Podrick)<-[:INTERACTS {weight: 28}]-(Tyrion)>\n",
            "<Record p=(Podrick)<-[:INTERACTS {weight: 5}]-(Tywin)>\n",
            "<Record p=(Podrick)<-[:INTERACTS {weight: 8}]-(Sansa)>\n",
            "<Record p=(Podrick)-[:INTERACTS {weight: 4}]->(Margaery)>\n",
            "<Record p=(Podrick)<-[:INTERACTS {weight: 19}]-(Bronn)>\n",
            "<Record p=(Rattleshirt)<-[:INTERACTS {weight: 9}]-(Ygritte)>\n",
            "<Record p=(Rattleshirt)-[:INTERACTS {weight: 6}]->(Qhorin)>\n",
            "<Record p=(Rattleshirt)<-[:INTERACTS {weight: 9}]-(Mance)>\n",
            "<Record p=(Rattleshirt)<-[:INTERACTS {weight: 20}]-(Jon)>\n",
            "<Record p=(Renly)<-[:INTERACTS {weight: 6}]-(Tyrion)>\n",
            "<Record p=(Renly)<-[:INTERACTS {weight: 4}]-(Sansa)>\n",
            "<Record p=(Renly)<-[:INTERACTS {weight: 15}]-(Stannis)>\n",
            "<Record p=(Renly)<-[:INTERACTS {weight: 4}]-(Robert)>\n",
            "<Record p=(Renly)-[:INTERACTS {weight: 8}]->(Loras)>\n",
            "<Record p=(Renly)-[:INTERACTS {weight: 7}]->(Margaery)>\n",
            "<Record p=(Renly)-[:INTERACTS {weight: 4}]->(Varys)>\n",
            "<Record p=(Renly)<-[:INTERACTS {weight: 7}]-(Jaime)>\n",
            "<Record p=(Rhaegar)<-[:INTERACTS {weight: 7}]-(Viserys)>\n",
            "<Record p=(Rhaegar)-[:INTERACTS {weight: 7}]->(Elia)>\n",
            "<Record p=(Rhaegar)-[:INTERACTS {weight: 5}]->(Jorah)>\n",
            "<Record p=(Rhaegar)-[:INTERACTS {weight: 5}]->(Barristan)>\n",
            "<Record p=(Rhaegar)-[:INTERACTS {weight: 6}]->(Robert)>\n",
            "<Record p=(Rhaegar)<-[:INTERACTS {weight: 12}]-(Daenerys)>\n",
            "<Record p=(Rickard)<-[:INTERACTS {weight: 7}]-(Robb)>\n",
            "<Record p=(Rickard)-[:INTERACTS {weight: 4}]->(Brynden)>\n",
            "<Record p=(Rickon)<-[:INTERACTS {weight: 7}]-(Sansa)>\n",
            "<Record p=(Rickon)<-[:INTERACTS {weight: 15}]-(Robb)>\n",
            "<Record p=(Rickon)<-[:INTERACTS {weight: 8}]-(Arya)>\n",
            "<Record p=(Rickon)-[:INTERACTS {weight: 8}]->(Theon)>\n",
            "<Record p=(Rickon)<-[:INTERACTS {weight: 8}]-(Eddard)>\n",
            "<Record p=(Rickon)<-[:INTERACTS {weight: 35}]-(Bran)>\n",
            "<Record p=(Robb)-[:INTERACTS {weight: 12}]->(Tywin)>\n",
            "<Record p=(Robb)-[:INTERACTS {weight: 26}]->(Walder)>\n",
            "<Record p=(Robb)-[:INTERACTS {weight: 18}]->(Jeyne)>\n",
            "<Record p=(Robb)-[:INTERACTS {weight: 15}]->(Jaime)>\n",
            "<Record p=(Robb)-[:INTERACTS {weight: 5}]->(Hodor)>\n",
            "<Record p=(Robb)-[:INTERACTS {weight: 32}]->(Edmure)>\n",
            "<Record p=(Robb)-[:INTERACTS {weight: 5}]->(Petyr)>\n",
            "<Record p=(Robb)-[:INTERACTS {weight: 10}]->(Lothar)>\n",
            "<Record p=(Robb)-[:INTERACTS {weight: 14}]->(Jon)>\n",
            "<Record p=(Robb)-[:INTERACTS {weight: 10}]->(Joffrey)>\n",
            "<Record p=(Robb)-[:INTERACTS {weight: 4}]->(Roose)>\n",
            "<Record p=(Robb)-[:INTERACTS {weight: 15}]->(Rickon)>\n",
            "<Record p=(Robb)-[:INTERACTS {weight: 7}]->(Rickard)>\n",
            "<Record p=(Robb)-[:INTERACTS {weight: 4}]->(Ramsay)>\n",
            "<Record p=(Robb)-[:INTERACTS {weight: 12}]->(Tyrion)>\n",
            "<Record p=(Robb)-[:INTERACTS {weight: 11}]->(Theon)>\n",
            "<Record p=(Robb)-[:INTERACTS {weight: 4}]->(Stannis)>\n",
            "<Record p=(Robb)-[:INTERACTS {weight: 15}]->(Sansa)>\n",
            "<Record p=(Robb)-[:INTERACTS {weight: 15}]->(Arya)>\n",
            "<Record p=(Robb)-[:INTERACTS {weight: 6}]->(Brienne)>\n",
            "<Record p=(Robb)-[:INTERACTS {weight: 17}]->(Brynden)>\n",
            "<Record p=(Robb)-[:INTERACTS {weight: 6}]->(Balon)>\n",
            "<Record p=(Robb)-[:INTERACTS {weight: 23}]->(Bran)>\n",
            "<Record p=(Robb)<-[:INTERACTS {weight: 13}]-(Eddard)>\n",
            "<Record p=(Robb)<-[:INTERACTS {weight: 43}]-(Catelyn)>\n",
            "<Record p=(Robert)<-[:INTERACTS {weight: 9}]-(Tyrion)>\n",
            "<Record p=(Robert)<-[:INTERACTS {weight: 11}]-(Tywin)>\n",
            "<Record p=(Robert)<-[:INTERACTS {weight: 5}]-(Sansa)>\n",
            "<Record p=(Robert)<-[:INTERACTS {weight: 6}]-(Sandor)>\n",
            "<Record p=(Robert)-[:INTERACTS {weight: 4}]->(Aemon)>\n",
            "<Record p=(Robert)-[:INTERACTS {weight: 5}]->(Barristan)>\n",
            "<Record p=(Robert)-[:INTERACTS {weight: 4}]->(Renly)>\n",
            "<Record p=(Robert)-[:INTERACTS {weight: 5}]->(Stannis)>\n",
            "<Record p=(Robert)-[:INTERACTS {weight: 4}]->(Thoros)>\n",
            "<Record p=(Robert)<-[:INTERACTS {weight: 6}]-(Aerys)>\n",
            "<Record p=(Robert)<-[:INTERACTS {weight: 6}]-(Rhaegar)>\n",
            "<Record p=(Robert)<-[:INTERACTS {weight: 5}]-(Jon)>\n",
            "<Record p=(Robert)<-[:INTERACTS {weight: 6}]-(Jon Arryn)>\n",
            "<Record p=(Robert)<-[:INTERACTS {weight: 17}]-(Jaime)>\n",
            "<Record p=(Robert)<-[:INTERACTS {weight: 10}]-(Eddard)>\n",
            "<Record p=(Robert)<-[:INTERACTS {weight: 5}]-(Daenerys)>\n",
            "<Record p=(Robert)<-[:INTERACTS {weight: 16}]-(Cersei)>\n",
            "<Record p=(Robert)<-[:INTERACTS {weight: 4}]-(Arya)>\n",
            "<Record p=(Robert Arryn)<-[:INTERACTS {weight: 6}]-(Sansa)>\n",
            "<Record p=(Robert Arryn)-[:INTERACTS {weight: 4}]->(Marillion)>\n",
            "<Record p=(Robert Arryn)<-[:INTERACTS {weight: 9}]-(Lysa)>\n",
            "<Record p=(Roose)-[:INTERACTS {weight: 4}]->(Brienne)>\n",
            "<Record p=(Roose)<-[:INTERACTS {weight: 4}]-(Robb)>\n",
            "<Record p=(Roose)<-[:INTERACTS {weight: 4}]-(Catelyn)>\n",
            "<Record p=(Roose)<-[:INTERACTS {weight: 5}]-(Arya)>\n",
            "<Record p=(Samwell)<-[:INTERACTS {weight: 13}]-(Stannis)>\n",
            "<Record p=(Samwell)-[:INTERACTS {weight: 5}]->(Qhorin)>\n",
            "<Record p=(Samwell)-[:INTERACTS {weight: 6}]->(Bowen)>\n",
            "<Record p=(Samwell)-[:INTERACTS {weight: 34}]->(Craster)>\n",
            "<Record p=(Samwell)-[:INTERACTS {weight: 12}]->(Eddison)>\n",
            "<Record p=(Samwell)-[:INTERACTS {weight: 36}]->(Gilly)>\n",
            "<Record p=(Samwell)-[:INTERACTS {weight: 43}]->(Grenn)>\n",
            "<Record p=(Samwell)-[:INTERACTS {weight: 6}]->(Janos)>\n",
            "<Record p=(Samwell)-[:INTERACTS {weight: 10}]->(Mance)>\n",
            "<Record p=(Samwell)<-[:INTERACTS {weight: 31}]-(Aemon)>\n",
            "<Record p=(Samwell)<-[:INTERACTS {weight: 7}]-(Meera)>\n",
            "<Record p=(Samwell)<-[:INTERACTS {weight: 5}]-(Melisandre)>\n",
            "<Record p=(Samwell)<-[:INTERACTS {weight: 52}]-(Jon)>\n",
            "<Record p=(Samwell)<-[:INTERACTS {weight: 11}]-(Jojen)>\n",
            "<Record p=(Samwell)<-[:INTERACTS {weight: 11}]-(Bran)>\n",
            "<Record p=(Sandor)<-[:INTERACTS {weight: 4}]-(Tyrion)>\n",
            "<Record p=(Sandor)<-[:INTERACTS {weight: 6}]-(Sansa)>\n",
            "<Record p=(Sandor)-[:INTERACTS {weight: 15}]->(Beric)>\n",
            "<Record p=(Sandor)-[:INTERACTS {weight: 4}]->(Ilyn)>\n",
            "<Record p=(Sandor)-[:INTERACTS {weight: 5}]->(Gendry)>\n",
            "<Record p=(Sandor)-[:INTERACTS {weight: 6}]->(Robert)>\n",
            "<Record p=(Sandor)-[:INTERACTS {weight: 4}]->(Meryn)>\n",
            "<Record p=(Sandor)-[:INTERACTS {weight: 10}]->(Thoros)>\n",
            "<Record p=(Sandor)<-[:INTERACTS {weight: 14}]-(Joffrey)>\n",
            "<Record p=(Sandor)<-[:INTERACTS {weight: 12}]-(Gregor)>\n",
            "<Record p=(Sandor)<-[:INTERACTS {weight: 5}]-(Eddard)>\n",
            "<Record p=(Sandor)<-[:INTERACTS {weight: 6}]-(Cersei)>\n",
            "<Record p=(Sandor)<-[:INTERACTS {weight: 46}]-(Arya)>\n",
            "<Record p=(Sansa)-[:INTERACTS {weight: 77}]->(Tyrion)>\n",
            "<Record p=(Sansa)-[:INTERACTS {weight: 8}]->(Shae)>\n",
            "<Record p=(Sansa)-[:INTERACTS {weight: 5}]->(Robert)>\n",
            "<Record p=(Sansa)-[:INTERACTS {weight: 7}]->(Rickon)>\n",
            "<Record p=(Sansa)-[:INTERACTS {weight: 6}]->(Sandor)>\n",
            "<Record p=(Sansa)-[:INTERACTS {weight: 6}]->(Robert Arryn)>\n",
            "<Record p=(Sansa)-[:INTERACTS {weight: 28}]->(Petyr)>\n",
            "<Record p=(Sansa)-[:INTERACTS {weight: 7}]->(Olenna)>\n",
            "<Record p=(Sansa)-[:INTERACTS {weight: 4}]->(Renly)>\n",
            "<Record p=(Sansa)-[:INTERACTS {weight: 8}]->(Podrick)>\n",
            "<Record p=(Sansa)-[:INTERACTS {weight: 36}]->(Margaery)>\n",
            "<Record p=(Sansa)-[:INTERACTS {weight: 28}]->(Lysa)>\n",
            "<Record p=(Sansa)-[:INTERACTS {weight: 4}]->(Myrcella)>\n",
            "<Record p=(Sansa)-[:INTERACTS {weight: 9}]->(Marillion)>\n",
            "<Record p=(Sansa)-[:INTERACTS {weight: 22}]->(Arya)>\n",
            "<Record p=(Sansa)-[:INTERACTS {weight: 5}]->(Brienne)>\n",
            "<Record p=(Sansa)-[:INTERACTS {weight: 10}]->(Bran)>\n",
            "<Record p=(Sansa)-[:INTERACTS {weight: 10}]->(Jaime)>\n",
            "<Record p=(Sansa)-[:INTERACTS {weight: 16}]->(Cersei)>\n",
            "<Record p=(Sansa)-[:INTERACTS {weight: 4}]->(Jon)>\n",
            "<Record p=(Sansa)-[:INTERACTS {weight: 35}]->(Joffrey)>\n",
            "<Record p=(Sansa)-[:INTERACTS {weight: 14}]->(Loras)>\n",
            "<Record p=(Sansa)-[:INTERACTS {weight: 5}]->(Kevan)>\n",
            "<Record p=(Sansa)<-[:INTERACTS {weight: 15}]-(Robb)>\n",
            "<Record p=(Sansa)<-[:INTERACTS {weight: 6}]-(Eddard)>\n",
            "<Record p=(Sansa)<-[:INTERACTS {weight: 8}]-(Catelyn)>\n",
            "<Record p=(Shae)<-[:INTERACTS {weight: 21}]-(Tyrion)>\n",
            "<Record p=(Shae)<-[:INTERACTS {weight: 8}]-(Sansa)>\n",
            "<Record p=(Shae)-[:INTERACTS {weight: 8}]->(Varys)>\n",
            "<Record p=(Shae)-[:INTERACTS {weight: 4}]->(Chataya)>\n",
            "<Record p=(Shae)<-[:INTERACTS {weight: 4}]-(Cersei)>\n",
            "<Record p=(Shireen)-[:INTERACTS {weight: 5}]->(Davos)>\n",
            "<Record p=(Stannis)<-[:INTERACTS {weight: 6}]-(Tyrion)>\n",
            "<Record p=(Stannis)<-[:INTERACTS {weight: 15}]-(Tywin)>\n",
            "<Record p=(Stannis)-[:INTERACTS {weight: 20}]->(Melisandre)>\n",
            "<Record p=(Stannis)-[:INTERACTS {weight: 15}]->(Renly)>\n",
            "<Record p=(Stannis)-[:INTERACTS {weight: 13}]->(Samwell)>\n",
            "<Record p=(Stannis)-[:INTERACTS {weight: 4}]->(Aemon)>\n",
            "<Record p=(Stannis)-[:INTERACTS {weight: 4}]->(Balon)>\n",
            "<Record p=(Stannis)-[:INTERACTS {weight: 32}]->(Davos)>\n",
            "<Record p=(Stannis)<-[:INTERACTS {weight: 5}]-(Robert)>\n",
            "<Record p=(Stannis)<-[:INTERACTS {weight: 4}]-(Robb)>\n",
            "<Record p=(Stannis)<-[:INTERACTS {weight: 9}]-(Jon)>\n",
            "<Record p=(Stannis)<-[:INTERACTS {weight: 10}]-(Joffrey)>\n",
            "<Record p=(Stannis)<-[:INTERACTS {weight: 5}]-(Jaime)>\n",
            "<Record p=(Stannis)<-[:INTERACTS {weight: 4}]-(Catelyn)>\n",
            "<Record p=(Tommen)<-[:INTERACTS {weight: 4}]-(Tywin)>\n",
            "<Record p=(Tommen)-[:INTERACTS {weight: 5}]->(Margaery)>\n",
            "<Record p=(Tommen)<-[:INTERACTS {weight: 5}]-(Myrcella)>\n",
            "<Record p=(Tommen)<-[:INTERACTS {weight: 9}]-(Joffrey)>\n",
            "<Record p=(Tommen)<-[:INTERACTS {weight: 8}]-(Jaime)>\n",
            "<Record p=(Tyrion)<-[:INTERACTS {weight: 4}]-(Viserys)>\n",
            "<Record p=(Tyrion)-[:INTERACTS {weight: 18}]->(Varys)>\n",
            "<Record p=(Tyrion)-[:INTERACTS {weight: 6}]->(Stannis)>\n",
            "<Record p=(Tyrion)-[:INTERACTS {weight: 21}]->(Shae)>\n",
            "<Record p=(Tyrion)-[:INTERACTS {weight: 4}]->(Sandor)>\n",
            "<Record p=(Tyrion)-[:INTERACTS {weight: 9}]->(Robert)>\n",
            "<Record p=(Tyrion)-[:INTERACTS {weight: 6}]->(Renly)>\n",
            "<Record p=(Tyrion)-[:INTERACTS {weight: 11}]->(Pycelle)>\n",
            "<Record p=(Tyrion)-[:INTERACTS {weight: 28}]->(Podrick)>\n",
            "<Record p=(Tyrion)-[:INTERACTS {weight: 12}]->(Petyr)>\n",
            "<Record p=(Tyrion)-[:INTERACTS {weight: 25}]->(Oberyn)>\n",
            "<Record p=(Tyrion)-[:INTERACTS {weight: 5}]->(Meryn)>\n",
            "<Record p=(Tyrion)-[:INTERACTS {weight: 7}]->(Margaery)>\n",
            "<Record p=(Tyrion)-[:INTERACTS {weight: 9}]->(Mace)>\n",
            "<Record p=(Tyrion)-[:INTERACTS {weight: 6}]->(Loras)>\n",
            "<Record p=(Tyrion)-[:INTERACTS {weight: 11}]->(Kevan)>\n",
            "<Record p=(Tyrion)-[:INTERACTS {weight: 5}]->(Janos)>\n",
            "<Record p=(Tyrion)<-[:INTERACTS {weight: 39}]-(Tywin)>\n",
            "<Record p=(Tyrion)<-[:INTERACTS {weight: 77}]-(Sansa)>\n",
            "<Record p=(Tyrion)-[:INTERACTS {weight: 5}]->(Elia)>\n",
            "<Record p=(Tyrion)-[:INTERACTS {weight: 4}]->(Ellaria)>\n",
            "<Record p=(Tyrion)-[:INTERACTS {weight: 22}]->(Gregor)>\n",
            "<Record p=(Tyrion)-[:INTERACTS {weight: 5}]->(Ilyn)>\n",
            "<Record p=(Tyrion)-[:INTERACTS {weight: 4}]->(Balon)>\n",
            "<Record p=(Tyrion)-[:INTERACTS {weight: 31}]->(Bronn)>\n",
            "<Record p=(Tyrion)-[:INTERACTS {weight: 5}]->(Chataya)>\n",
            "<Record p=(Tyrion)-[:INTERACTS {weight: 5}]->(Doran)>\n",
            "<Record p=(Tyrion)<-[:INTERACTS {weight: 12}]-(Robb)>\n",
            "<Record p=(Tyrion)<-[:INTERACTS {weight: 5}]-(Aerys)>\n",
            "<Record p=(Tyrion)<-[:INTERACTS {weight: 4}]-(Myrcella)>\n",
            "<Record p=(Tyrion)<-[:INTERACTS {weight: 5}]-(Lysa)>\n",
            "<Record p=(Tyrion)<-[:INTERACTS {weight: 54}]-(Joffrey)>\n",
            "<Record p=(Tyrion)<-[:INTERACTS {weight: 31}]-(Jaime)>\n",
            "<Record p=(Tyrion)<-[:INTERACTS {weight: 46}]-(Cersei)>\n",
            "<Record p=(Tyrion)<-[:INTERACTS {weight: 5}]-(Catelyn)>\n",
            "<Record p=(Tyrion)<-[:INTERACTS {weight: 5}]-(Arya)>\n",
            "<Record p=(Tywin)-[:INTERACTS {weight: 6}]->(Varys)>\n",
            "<Record p=(Tywin)-[:INTERACTS {weight: 4}]->(Val)>\n",
            "<Record p=(Tywin)-[:INTERACTS {weight: 4}]->(Walder)>\n",
            "<Record p=(Tywin)-[:INTERACTS {weight: 4}]->(Tommen)>\n",
            "<Record p=(Tywin)-[:INTERACTS {weight: 39}]->(Tyrion)>\n",
            "<Record p=(Tywin)-[:INTERACTS {weight: 11}]->(Robert)>\n",
            "<Record p=(Tywin)-[:INTERACTS {weight: 15}]->(Stannis)>\n",
            "<Record p=(Tywin)-[:INTERACTS {weight: 5}]->(Podrick)>\n",
            "<Record p=(Tywin)-[:INTERACTS {weight: 5}]->(Pycelle)>\n",
            "<Record p=(Tywin)-[:INTERACTS {weight: 6}]->(Oberyn)>\n",
            "<Record p=(Tywin)-[:INTERACTS {weight: 4}]->(Petyr)>\n",
            "<Record p=(Tywin)-[:INTERACTS {weight: 14}]->(Kevan)>\n",
            "<Record p=(Tywin)-[:INTERACTS {weight: 5}]->(Mace)>\n",
            "<Record p=(Tywin)-[:INTERACTS {weight: 13}]->(Jaime)>\n",
            "<Record p=(Tywin)-[:INTERACTS {weight: 13}]->(Joffrey)>\n",
            "<Record p=(Tywin)-[:INTERACTS {weight: 16}]->(Cersei)>\n",
            "<Record p=(Tywin)-[:INTERACTS {weight: 7}]->(Gregor)>\n",
            "<Record p=(Tywin)-[:INTERACTS {weight: 5}]->(Balon)>\n",
            "<Record p=(Tywin)-[:INTERACTS {weight: 4}]->(Brynden)>\n",
            "<Record p=(Tywin)<-[:INTERACTS {weight: 12}]-(Robb)>\n",
            "<Record p=(Tywin)<-[:INTERACTS {weight: 8}]-(Aerys)>\n",
            "<Record p=(Tywin)<-[:INTERACTS {weight: 4}]-(Lysa)>\n",
            "<Record p=(Val)<-[:INTERACTS {weight: 4}]-(Tywin)>\n",
            "<Record p=(Val)-[:INTERACTS {weight: 7}]->(Dalla)>\n",
            "<Record p=(Val)<-[:INTERACTS {weight: 8}]-(Mance)>\n",
            "<Record p=(Val)<-[:INTERACTS {weight: 12}]-(Jon)>\n",
            "<Record p=(Varys)<-[:INTERACTS {weight: 6}]-(Tywin)>\n",
            "<Record p=(Varys)-[:INTERACTS {weight: 4}]->(Pycelle)>\n",
            "<Record p=(Varys)<-[:INTERACTS {weight: 18}]-(Tyrion)>\n",
            "<Record p=(Varys)<-[:INTERACTS {weight: 8}]-(Shae)>\n",
            "<Record p=(Varys)<-[:INTERACTS {weight: 4}]-(Renly)>\n",
            "<Record p=(Varys)<-[:INTERACTS {weight: 5}]-(Kevan)>\n",
            "<Record p=(Varys)<-[:INTERACTS {weight: 4}]-(Cersei)>\n",
            "<Record p=(Viserys)-[:INTERACTS {weight: 7}]->(Rhaegar)>\n",
            "<Record p=(Viserys)-[:INTERACTS {weight: 4}]->(Tyrion)>\n",
            "<Record p=(Viserys)<-[:INTERACTS {weight: 8}]-(Daenerys)>\n",
            "<Record p=(Walder)-[:INTERACTS {weight: 6}]->(Roslin)>\n",
            "<Record p=(Walder)-[:INTERACTS {weight: 6}]->(Petyr)>\n",
            "<Record p=(Walder)<-[:INTERACTS {weight: 4}]-(Tywin)>\n",
            "<Record p=(Walder)-[:INTERACTS {weight: 12}]->(Lothar)>\n",
            "<Record p=(Walder)<-[:INTERACTS {weight: 26}]-(Robb)>\n",
            "<Record p=(Walder)<-[:INTERACTS {weight: 9}]-(Edmure)>\n",
            "<Record p=(Walder)<-[:INTERACTS {weight: 19}]-(Catelyn)>\n",
            "<Record p=(Walder)<-[:INTERACTS {weight: 5}]-(Brynden)>\n",
            "<Record p=(Walton)-[:INTERACTS {weight: 10}]->(Jaime)>\n",
            "<Record p=(Ygritte)-[:INTERACTS {weight: 7}]->(Qhorin)>\n",
            "<Record p=(Ygritte)-[:INTERACTS {weight: 9}]->(Rattleshirt)>\n",
            "<Record p=(Ygritte)<-[:INTERACTS {weight: 12}]-(Mance)>\n",
            "<Record p=(Ygritte)<-[:INTERACTS {weight: 54}]-(Jon)>\n",
            "<Record p=(Grenn)<-[:INTERACTS {weight: 43}]-(Samwell)>\n",
            "<Record p=(Grenn)<-[:INTERACTS {weight: 5}]-(Aemon)>\n",
            "<Record p=(Grenn)<-[:INTERACTS {weight: 25}]-(Jon)>\n",
            "<Record p=(Grenn)<-[:INTERACTS {weight: 8}]-(Eddison)>\n",
            "<Record p=(Anguy)<-[:INTERACTS {weight: 11}]-(Arya)>\n",
            "<Record p=(Anguy)<-[:INTERACTS {weight: 4}]-(Beric)>\n",
            "<Record p=(Thoros)<-[:INTERACTS {weight: 10}]-(Sandor)>\n",
            "<Record p=(Thoros)<-[:INTERACTS {weight: 4}]-(Robert)>\n",
            "<Record p=(Thoros)<-[:INTERACTS {weight: 7}]-(Gendry)>\n",
            "<Record p=(Thoros)<-[:INTERACTS {weight: 21}]-(Beric)>\n",
            "<Record p=(Thoros)<-[:INTERACTS {weight: 18}]-(Arya)>\n",
            "<Record p=(Barristan)<-[:INTERACTS {weight: 5}]-(Robert)>\n",
            "<Record p=(Barristan)<-[:INTERACTS {weight: 5}]-(Rhaegar)>\n",
            "<Record p=(Barristan)<-[:INTERACTS {weight: 11}]-(Jorah)>\n",
            "<Record p=(Barristan)<-[:INTERACTS {weight: 4}]-(Jaime)>\n",
            "<Record p=(Barristan)<-[:INTERACTS {weight: 20}]-(Daenerys)>\n",
            "<Record p=(Barristan)<-[:INTERACTS {weight: 18}]-(Belwas)>\n",
            "<Record p=(Illyrio)<-[:INTERACTS {weight: 10}]-(Belwas)>\n",
            "<Record p=(Nan)<-[:INTERACTS {weight: 4}]-(Luwin)>\n",
            "<Record p=(Nan)<-[:INTERACTS {weight: 14}]-(Bran)>\n",
            "<Record p=(Theon)<-[:INTERACTS {weight: 11}]-(Robb)>\n",
            "<Record p=(Theon)<-[:INTERACTS {weight: 8}]-(Rickon)>\n",
            "<Record p=(Theon)<-[:INTERACTS {weight: 8}]-(Jon)>\n",
            "<Record p=(Theon)<-[:INTERACTS {weight: 11}]-(Bran)>\n",
            "<Record p=(Jeyne)<-[:INTERACTS {weight: 18}]-(Robb)>\n",
            "<Record p=(Jeyne)<-[:INTERACTS {weight: 10}]-(Catelyn)>\n",
            "<Record p=(Petyr)<-[:INTERACTS {weight: 6}]-(Walder)>\n",
            "<Record p=(Petyr)<-[:INTERACTS {weight: 12}]-(Tyrion)>\n",
            "<Record p=(Petyr)<-[:INTERACTS {weight: 4}]-(Tywin)>\n",
            "<Record p=(Petyr)<-[:INTERACTS {weight: 28}]-(Sansa)>\n",
            "<Record p=(Petyr)<-[:INTERACTS {weight: 5}]-(Robb)>\n",
            "<Record p=(Petyr)<-[:INTERACTS {weight: 29}]-(Lysa)>\n",
            "<Record p=(Petyr)<-[:INTERACTS {weight: 5}]-(Catelyn)>\n",
            "<Record p=(Roslin)<-[:INTERACTS {weight: 6}]-(Walder)>\n",
            "<Record p=(Roslin)<-[:INTERACTS {weight: 4}]-(Lothar)>\n",
            "<Record p=(Roslin)<-[:INTERACTS {weight: 16}]-(Edmure)>\n",
            "<Record p=(Roslin)<-[:INTERACTS {weight: 6}]-(Catelyn)>\n",
            "<Record p=(Elia)<-[:INTERACTS {weight: 5}]-(Tyrion)>\n",
            "<Record p=(Elia)<-[:INTERACTS {weight: 7}]-(Rhaegar)>\n",
            "<Record p=(Elia)<-[:INTERACTS {weight: 4}]-(Jaime)>\n",
            "<Record p=(Elia)<-[:INTERACTS {weight: 9}]-(Gregor)>\n",
            "<Record p=(Elia)<-[:INTERACTS {weight: 4}]-(Cersei)>\n",
            "<Record p=(Ilyn)<-[:INTERACTS {weight: 5}]-(Tyrion)>\n",
            "<Record p=(Ilyn)<-[:INTERACTS {weight: 4}]-(Sandor)>\n",
            "<Record p=(Ilyn)<-[:INTERACTS {weight: 5}]-(Meryn)>\n",
            "<Record p=(Ilyn)<-[:INTERACTS {weight: 4}]-(Joffrey)>\n",
            "<Record p=(Ilyn)<-[:INTERACTS {weight: 7}]-(Gregor)>\n",
            "<Record p=(Ilyn)<-[:INTERACTS {weight: 7}]-(Cersei)>\n",
            "<Record p=(Pycelle)<-[:INTERACTS {weight: 4}]-(Varys)>\n",
            "<Record p=(Pycelle)<-[:INTERACTS {weight: 11}]-(Tyrion)>\n",
            "<Record p=(Pycelle)<-[:INTERACTS {weight: 5}]-(Tywin)>\n",
            "<Record p=(Pycelle)<-[:INTERACTS {weight: 4}]-(Cersei)>\n",
            "<Record p=(Karl)<-[:INTERACTS {weight: 6}]-(Craster)>\n",
            "<Record p=(Drogo)<-[:INTERACTS {weight: 6}]-(Jorah)>\n",
            "<Record p=(Drogo)<-[:INTERACTS {weight: 7}]-(Irri)>\n",
            "<Record p=(Drogo)<-[:INTERACTS {weight: 18}]-(Daenerys)>\n",
            "<Record p=(Drogo)<-[:INTERACTS {weight: 4}]-(Daario)>\n",
            "<Record p=(Aegon)<-[:INTERACTS {weight: 8}]-(Daenerys)>\n",
            "<Record p=(Kraznys)<-[:INTERACTS {weight: 10}]-(Daenerys)>\n",
            "<Record p=(Rakharo)<-[:INTERACTS {weight: 7}]-(Daenerys)>\n",
            "<Record p=(Worm)<-[:INTERACTS {weight: 14}]-(Daenerys)>\n",
            "<Record p=(Cressen)<-[:INTERACTS {weight: 4}]-(Davos)>\n",
            "<Record p=(Salladhor)<-[:INTERACTS {weight: 16}]-(Davos)>\n",
            "<Record p=(Qyburn)<-[:INTERACTS {weight: 11}]-(Jaime)>\n",
            "<Record p=(Bowen)<-[:INTERACTS {weight: 6}]-(Samwell)>\n",
            "<Record p=(Bowen)<-[:INTERACTS {weight: 5}]-(Janos)>\n",
            "<Record p=(Margaery)<-[:INTERACTS {weight: 7}]-(Tyrion)>\n",
            "<Record p=(Margaery)<-[:INTERACTS {weight: 36}]-(Sansa)>\n",
            "<Record p=(Margaery)<-[:INTERACTS {weight: 5}]-(Tommen)>\n",
            "<Record p=(Margaery)<-[:INTERACTS {weight: 7}]-(Renly)>\n",
            "<Record p=(Margaery)<-[:INTERACTS {weight: 4}]-(Podrick)>\n",
            "<Record p=(Margaery)<-[:INTERACTS {weight: 9}]-(Loras)>\n",
            "<Record p=(Margaery)<-[:INTERACTS {weight: 28}]-(Joffrey)>\n",
            "<Record p=(Dalla)<-[:INTERACTS {weight: 7}]-(Val)>\n",
            "<Record p=(Dalla)<-[:INTERACTS {weight: 8}]-(Mance)>\n",
            "<Record p=(Dalla)<-[:INTERACTS {weight: 6}]-(Jon)>\n",
            "<Record p=(Orell)<-[:INTERACTS {weight: 6}]-(Jon)>\n",
            "<Record p=(Qhorin)<-[:INTERACTS {weight: 7}]-(Ygritte)>\n",
            "<Record p=(Qhorin)<-[:INTERACTS {weight: 5}]-(Samwell)>\n",
            "<Record p=(Qhorin)<-[:INTERACTS {weight: 6}]-(Rattleshirt)>\n",
            "<Record p=(Qhorin)<-[:INTERACTS {weight: 10}]-(Mance)>\n",
            "<Record p=(Qhorin)<-[:INTERACTS {weight: 31}]-(Jon)>\n",
            "<Record p=(Styr)<-[:INTERACTS {weight: 7}]-(Mance)>\n",
            "<Record p=(Styr)<-[:INTERACTS {weight: 16}]-(Jon)>\n",
            "<Record p=(Lancel)<-[:INTERACTS {weight: 7}]-(Kevan)>\n",
            "<Record p=(Olenna)<-[:INTERACTS {weight: 7}]-(Sansa)>\n",
            "<Record p=(Olenna)<-[:INTERACTS {weight: 5}]-(Loras)>\n",
            "<Record p=(Marillion)<-[:INTERACTS {weight: 9}]-(Sansa)>\n",
            "<Record p=(Marillion)<-[:INTERACTS {weight: 4}]-(Robert Arryn)>\n",
            "<Record p=(Marillion)<-[:INTERACTS {weight: 10}]-(Lysa)>\n",
            "<Record p=(Ellaria)<-[:INTERACTS {weight: 4}]-(Tyrion)>\n",
            "<Record p=(Ellaria)<-[:INTERACTS {weight: 6}]-(Oberyn)>\n",
            "<Record p=(Mace)<-[:INTERACTS {weight: 9}]-(Tyrion)>\n",
            "<Record p=(Mace)<-[:INTERACTS {weight: 5}]-(Tywin)>\n",
            "<Record p=(Mace)<-[:INTERACTS {weight: 6}]-(Oberyn)>\n",
            "<Record p=(Ramsay)<-[:INTERACTS {weight: 4}]-(Robb)>\n",
            "<Record p=(Chataya)<-[:INTERACTS {weight: 4}]-(Shae)>\n",
            "<Record p=(Chataya)<-[:INTERACTS {weight: 5}]-(Tyrion)>\n",
            "<Record p=(Doran)<-[:INTERACTS {weight: 5}]-(Tyrion)>\n",
            "<Record p=(Aemon)<-[:INTERACTS {weight: 4}]-(Stannis)>\n",
            "<Record p=(Aemon)<-[:INTERACTS {weight: 4}]-(Robert)>\n",
            "<Record p=(Aemon)-[:INTERACTS {weight: 5}]->(Grenn)>\n",
            "<Record p=(Aemon)-[:INTERACTS {weight: 31}]->(Samwell)>\n",
            "<Record p=(Aemon)<-[:INTERACTS {weight: 30}]-(Jon)>\n",
            "<Record p=(Aerys)-[:INTERACTS {weight: 6}]->(Robert)>\n",
            "<Record p=(Aerys)-[:INTERACTS {weight: 5}]->(Tyrion)>\n",
            "<Record p=(Aerys)-[:INTERACTS {weight: 8}]->(Tywin)>\n",
            "<Record p=(Aerys)-[:INTERACTS {weight: 18}]->(Jaime)>\n",
            "<Record p=(Alliser)-[:INTERACTS {weight: 5}]->(Mance)>\n",
            "<Record p=(Alliser)<-[:INTERACTS {weight: 15}]-(Jon)>\n",
            "<Record p=(Alliser)<-[:INTERACTS {weight: 9}]-(Janos)>\n",
            "<Record p=(Amory)-[:INTERACTS {weight: 5}]->(Oberyn)>\n",
            "<Record p=(Arya)<-[:INTERACTS {weight: 22}]-(Sansa)>\n",
            "<Record p=(Arya)-[:INTERACTS {weight: 6}]->(Joffrey)>\n",
            "<Record p=(Arya)-[:INTERACTS {weight: 11}]->(Jaime)>\n",
            "<Record p=(Arya)-[:INTERACTS {weight: 8}]->(Rickon)>\n",
            "<Record p=(Arya)-[:INTERACTS {weight: 7}]->(Jon)>\n",
            "<Record p=(Arya)-[:INTERACTS {weight: 5}]->(Cersei)>\n",
            "<Record p=(Arya)-[:INTERACTS {weight: 6}]->(Brynden)>\n",
            "<Record p=(Arya)-[:INTERACTS {weight: 7}]->(Gregor)>\n",
            "<Record p=(Arya)-[:INTERACTS {weight: 43}]->(Gendry)>\n",
            "<Record p=(Arya)-[:INTERACTS {weight: 11}]->(Anguy)>\n",
            "<Record p=(Arya)-[:INTERACTS {weight: 23}]->(Beric)>\n",
            "<Record p=(Arya)-[:INTERACTS {weight: 9}]->(Bran)>\n",
            "<Record p=(Arya)<-[:INTERACTS {weight: 15}]-(Robb)>\n",
            "<Record p=(Arya)<-[:INTERACTS {weight: 18}]-(Eddard)>\n",
            "<Record p=(Arya)-[:INTERACTS {weight: 5}]->(Tyrion)>\n",
            "<Record p=(Arya)-[:INTERACTS {weight: 18}]->(Thoros)>\n",
            "<Record p=(Arya)-[:INTERACTS {weight: 46}]->(Sandor)>\n",
            "<Record p=(Arya)-[:INTERACTS {weight: 5}]->(Roose)>\n",
            "<Record p=(Arya)-[:INTERACTS {weight: 4}]->(Robert)>\n",
            "<Record p=(Balon)<-[:INTERACTS {weight: 5}]-(Tywin)>\n",
            "<Record p=(Balon)<-[:INTERACTS {weight: 4}]-(Tyrion)>\n",
            "<Record p=(Balon)<-[:INTERACTS {weight: 4}]-(Stannis)>\n",
            "<Record p=(Balon)<-[:INTERACTS {weight: 6}]-(Robb)>\n",
            "<Record p=(Balon)<-[:INTERACTS {weight: 6}]-(Jaime)>\n",
            "<Record p=(Balon)-[:INTERACTS {weight: 4}]->(Loras)>\n"
          ],
          "name": "stdout"
        }
      ]
    },
    {
      "cell_type": "markdown",
      "metadata": {
        "id": "bHHUBbsNgGTa",
        "colab_type": "text"
      },
      "source": [
        "**4. get count of how many character in database**"
      ]
    },
    {
      "cell_type": "code",
      "metadata": {
        "id": "T5nIOdRsP6c_",
        "colab_type": "code",
        "outputId": "b805272e-ac25-4e67-97fc-e746c212ccce",
        "colab": {
          "base_uri": "https://localhost:8080/",
          "height": 34
        }
      },
      "source": [
        "for record in graph.run(\"MATCH (c:Character) RETURN count(c) AS num\"):\n",
        "    print(record)"
      ],
      "execution_count": 0,
      "outputs": [
        {
          "output_type": "stream",
          "text": [
            "<Record num=107>\n"
          ],
          "name": "stdout"
        }
      ]
    },
    {
      "cell_type": "markdown",
      "metadata": {
        "id": "6p5Ruam4gYp4",
        "colab_type": "text"
      },
      "source": [
        "**5. get each character's interacts and also analyses  the statics**"
      ]
    },
    {
      "cell_type": "code",
      "metadata": {
        "id": "bf31lSroP-YM",
        "colab_type": "code",
        "outputId": "637ef94d-eacd-4dee-a75d-539a0f124867",
        "colab": {
          "base_uri": "https://localhost:8080/",
          "height": 34
        }
      },
      "source": [
        "for record in graph.run('''\n",
        "MATCH (c:Character)-[:INTERACTS]->()\n",
        "WITH c, count(*) AS num\n",
        "RETURN min(num) AS min, max(num) AS max, avg(num) AS avg_characters, stdev(num) AS stdev\n",
        "'''):\n",
        "    print(record)"
      ],
      "execution_count": 0,
      "outputs": [
        {
          "output_type": "stream",
          "text": [
            "<Record min=1 max=24 avg_characters=4.957746478873239 stdev=6.2276723918750845>\n"
          ],
          "name": "stdout"
        }
      ]
    },
    {
      "cell_type": "markdown",
      "metadata": {
        "id": "kujW7bWKglej",
        "colab_type": "text"
      },
      "source": [
        "**6. get top 4 maximum length shortest path in database**"
      ]
    },
    {
      "cell_type": "code",
      "metadata": {
        "id": "g72-6TTNQBzU",
        "colab_type": "code",
        "outputId": "8b6d5d15-2e29-409f-a195-dcd65786d1b8",
        "colab": {
          "base_uri": "https://localhost:8080/",
          "height": 85
        }
      },
      "source": [
        "for r in graph.run('''\n",
        "// Find maximum diameter of network\n",
        "// maximum shortest path between two nodes\n",
        "MATCH (a:Character), (b:Character) WHERE id(a) > id(b)\n",
        "MATCH p=shortestPath((a)-[:INTERACTS*]-(b))\n",
        "RETURN length(p) AS len, extract(x IN nodes(p) | x.name) AS path\n",
        "ORDER BY len DESC LIMIT 4\n",
        "'''):\n",
        "    print(r)"
      ],
      "execution_count": 0,
      "outputs": [
        {
          "output_type": "stream",
          "text": [
            "<Record len=6 path=['Illyrio', 'Belwas', 'Daenerys', 'Robert', 'Sansa', 'Bran', 'Jojen']>\n",
            "<Record len=6 path=['Illyrio', 'Belwas', 'Daenerys', 'Robert', 'Sansa', 'Bran', 'Luwin']>\n",
            "<Record len=6 path=['Nan', 'Bran', 'Sansa', 'Robert', 'Daenerys', 'Belwas', 'Illyrio']>\n",
            "<Record len=6 path=['Illyrio', 'Belwas', 'Daenerys', 'Robert', 'Stannis', 'Davos', 'Shireen']>\n"
          ],
          "name": "stdout"
        }
      ]
    },
    {
      "cell_type": "markdown",
      "metadata": {
        "id": "LPU1L5AsiDu0",
        "colab_type": "text"
      },
      "source": [
        "**7. find Catelyn and Drogo shortest path**"
      ]
    },
    {
      "cell_type": "code",
      "metadata": {
        "id": "XyfXzr-OR76F",
        "colab_type": "code",
        "outputId": "3586e4fc-0a06-4df1-8d82-734dba86dfdc",
        "colab": {
          "base_uri": "https://localhost:8080/",
          "height": 54
        }
      },
      "source": [
        "for r in graph.run('''\n",
        "// Shortest path from Catelyn Stark to Khal Drogo\n",
        "MATCH (catelyn:Character {name: \"Catelyn\"}), (drogo:Character {name: \"Drogo\"})\n",
        "MATCH p=shortestPath((catelyn)-[INTERACTS*]-(drogo))\n",
        "RETURN p\n",
        "'''):\n",
        "    print(r)"
      ],
      "execution_count": 0,
      "outputs": [
        {
          "output_type": "stream",
          "text": [
            "<Record p=(Catelyn)-[:INTERACTS {weight: 19}]->(Jaime)-[:INTERACTS {weight: 4}]->(Barristan)<-[:INTERACTS {weight: 11}]-(Jorah)-[:INTERACTS {weight: 6}]->(Drogo)>\n"
          ],
          "name": "stdout"
        }
      ]
    },
    {
      "cell_type": "markdown",
      "metadata": {
        "id": "NmZrp-SeiKhI",
        "colab_type": "text"
      },
      "source": [
        "**8. find all the shortest paths between Catelyn and Drogo**"
      ]
    },
    {
      "cell_type": "code",
      "metadata": {
        "id": "J-4BMK2lSBfM",
        "colab_type": "code",
        "outputId": "4299b898-2c45-4b8e-f906-4598126f74e2",
        "colab": {
          "base_uri": "https://localhost:8080/",
          "height": 190
        }
      },
      "source": [
        "for r in graph.run('''\n",
        "MATCH (catelyn:Character {name: \"Catelyn\"}), (drogo:Character {name: \"Drogo\"})\n",
        "MATCH p=allShortestPaths((catelyn)-[INTERACTS*]-(drogo))\n",
        "RETURN p\n",
        "'''):\n",
        "    print(r)"
      ],
      "execution_count": 0,
      "outputs": [
        {
          "output_type": "stream",
          "text": [
            "<Record p=(Catelyn)-[:INTERACTS {weight: 8}]->(Sansa)-[:INTERACTS {weight: 5}]->(Robert)<-[:INTERACTS {weight: 5}]-(Daenerys)-[:INTERACTS {weight: 18}]->(Drogo)>\n",
            "<Record p=(Catelyn)-[:INTERACTS {weight: 19}]->(Jaime)-[:INTERACTS {weight: 4}]->(Barristan)<-[:INTERACTS {weight: 11}]-(Jorah)-[:INTERACTS {weight: 6}]->(Drogo)>\n",
            "<Record p=(Catelyn)-[:INTERACTS {weight: 19}]->(Jaime)-[:INTERACTS {weight: 4}]->(Barristan)<-[:INTERACTS {weight: 20}]-(Daenerys)-[:INTERACTS {weight: 18}]->(Drogo)>\n",
            "<Record p=(Catelyn)-[:INTERACTS {weight: 19}]->(Jaime)-[:INTERACTS {weight: 17}]->(Robert)<-[:INTERACTS {weight: 5}]-(Daenerys)-[:INTERACTS {weight: 18}]->(Drogo)>\n",
            "<Record p=(Catelyn)-[:INTERACTS {weight: 4}]->(Stannis)<-[:INTERACTS {weight: 5}]-(Robert)<-[:INTERACTS {weight: 5}]-(Daenerys)-[:INTERACTS {weight: 18}]->(Drogo)>\n",
            "<Record p=(Catelyn)-[:INTERACTS {weight: 4}]->(Cersei)-[:INTERACTS {weight: 16}]->(Robert)<-[:INTERACTS {weight: 5}]-(Daenerys)-[:INTERACTS {weight: 18}]->(Drogo)>\n",
            "<Record p=(Catelyn)-[:INTERACTS {weight: 5}]->(Tyrion)<-[:INTERACTS {weight: 4}]-(Viserys)<-[:INTERACTS {weight: 8}]-(Daenerys)-[:INTERACTS {weight: 18}]->(Drogo)>\n",
            "<Record p=(Catelyn)-[:INTERACTS {weight: 5}]->(Tyrion)-[:INTERACTS {weight: 9}]->(Robert)<-[:INTERACTS {weight: 5}]-(Daenerys)-[:INTERACTS {weight: 18}]->(Drogo)>\n",
            "<Record p=(Catelyn)<-[:INTERACTS {weight: 5}]-(Eddard)-[:INTERACTS {weight: 10}]->(Robert)<-[:INTERACTS {weight: 5}]-(Daenerys)-[:INTERACTS {weight: 18}]->(Drogo)>\n"
          ],
          "name": "stdout"
        }
      ]
    },
    {
      "cell_type": "markdown",
      "metadata": {
        "id": "V4BStbxriSjP",
        "colab_type": "text"
      },
      "source": [
        "**9. find all pivotal nodes in network and skip 490 and take top 10**"
      ]
    },
    {
      "cell_type": "code",
      "metadata": {
        "id": "IFYvyF6PSUGr",
        "colab_type": "code",
        "outputId": "16c91cf6-1436-4c49-c0c8-aa4743f4da29",
        "colab": {
          "base_uri": "https://localhost:8080/",
          "height": 187
        }
      },
      "source": [
        "for r in graph.run('''\n",
        "// Find all pivotal nodes in network\n",
        "MATCH (a:Character), (b:Character) WHERE id(a) > id(b)\n",
        "MATCH p=allShortestPaths((a)-[:INTERACTS*]-(b)) WITH collect(p) AS paths, a, b\n",
        "UNWIND nodes(head(paths)) as c // first path\n",
        "WITH * WHERE NOT c IN [a,b] AND all(path IN tail(paths) WHERE c IN nodes(path))\n",
        "RETURN a.name, b.name, c.name AS PivotalNode, length(head(paths)) as pathLength, length(paths) as pathCount SKIP 490 LIMIT 10\n",
        "'''):\n",
        "    print(r)"
      ],
      "execution_count": 0,
      "outputs": [
        {
          "output_type": "stream",
          "text": [
            "<Record a.name='Aerys' b.name='Doran' PivotalNode='Tyrion' pathLength=2 pathCount=1>\n",
            "<Record a.name='Meera' b.name='Jorah' PivotalNode='Jon' pathLength=4 pathCount=3>\n",
            "<Record a.name='Meera' b.name='Jorah' PivotalNode='Robert' pathLength=4 pathCount=3>\n",
            "<Record a.name='Marillion' b.name='Bran' PivotalNode='Sansa' pathLength=2 pathCount=1>\n",
            "<Record a.name='Olenna' b.name='Mance' PivotalNode='Sansa' pathLength=3 pathCount=1>\n",
            "<Record a.name='Olenna' b.name='Mance' PivotalNode='Jon' pathLength=3 pathCount=1>\n",
            "<Record a.name='Lancel' b.name='Ygritte' PivotalNode='Kevan' pathLength=4 pathCount=1>\n",
            "<Record a.name='Lancel' b.name='Ygritte' PivotalNode='Sansa' pathLength=4 pathCount=1>\n",
            "<Record a.name='Lancel' b.name='Ygritte' PivotalNode='Jon' pathLength=4 pathCount=1>\n",
            "<Record a.name='Cressen' b.name='Bran' PivotalNode='Davos' pathLength=4 pathCount=6>\n"
          ],
          "name": "stdout"
        }
      ]
    },
    {
      "cell_type": "markdown",
      "metadata": {
        "id": "BJ_L7xTRih18",
        "colab_type": "text"
      },
      "source": [
        "**10. find all shortest paths between Dorgo and Ramsay**"
      ]
    },
    {
      "cell_type": "code",
      "metadata": {
        "id": "WjQ9TaSmhNE8",
        "colab_type": "code",
        "outputId": "aa1a4975-976d-441b-8628-ecadceeb6e6e",
        "colab": {
          "base_uri": "https://localhost:8080/",
          "height": 224
        }
      },
      "source": [
        "for r in graph.run('''\n",
        "MATCH (a:Character {name: \"Drogo\"}), (b:Character {name: \"Ramsay\"})\n",
        "MATCH p=allShortestPaths((a)-[:INTERACTS*]-(b))\n",
        "RETURN p\n",
        "'''):\n",
        "    print(r)"
      ],
      "execution_count": 0,
      "outputs": [
        {
          "output_type": "stream",
          "text": [
            "<Record p=(Drogo)<-[:INTERACTS {weight: 18}]-(Daenerys)-[:INTERACTS {weight: 5}]->(Robert)<-[:INTERACTS {weight: 5}]-(Sansa)<-[:INTERACTS {weight: 15}]-(Robb)-[:INTERACTS {weight: 4}]->(Ramsay)>\n",
            "<Record p=(Drogo)<-[:INTERACTS {weight: 6}]-(Jorah)-[:INTERACTS {weight: 11}]->(Barristan)<-[:INTERACTS {weight: 4}]-(Jaime)<-[:INTERACTS {weight: 15}]-(Robb)-[:INTERACTS {weight: 4}]->(Ramsay)>\n",
            "<Record p=(Drogo)<-[:INTERACTS {weight: 18}]-(Daenerys)-[:INTERACTS {weight: 20}]->(Barristan)<-[:INTERACTS {weight: 4}]-(Jaime)<-[:INTERACTS {weight: 15}]-(Robb)-[:INTERACTS {weight: 4}]->(Ramsay)>\n",
            "<Record p=(Drogo)<-[:INTERACTS {weight: 18}]-(Daenerys)-[:INTERACTS {weight: 5}]->(Robert)<-[:INTERACTS {weight: 17}]-(Jaime)<-[:INTERACTS {weight: 15}]-(Robb)-[:INTERACTS {weight: 4}]->(Ramsay)>\n",
            "<Record p=(Drogo)<-[:INTERACTS {weight: 18}]-(Daenerys)-[:INTERACTS {weight: 5}]->(Robert)-[:INTERACTS {weight: 5}]->(Stannis)<-[:INTERACTS {weight: 4}]-(Robb)-[:INTERACTS {weight: 4}]->(Ramsay)>\n",
            "<Record p=(Drogo)<-[:INTERACTS {weight: 18}]-(Daenerys)-[:INTERACTS {weight: 8}]->(Viserys)-[:INTERACTS {weight: 4}]->(Tyrion)<-[:INTERACTS {weight: 12}]-(Robb)-[:INTERACTS {weight: 4}]->(Ramsay)>\n",
            "<Record p=(Drogo)<-[:INTERACTS {weight: 18}]-(Daenerys)-[:INTERACTS {weight: 5}]->(Robert)<-[:INTERACTS {weight: 9}]-(Tyrion)<-[:INTERACTS {weight: 12}]-(Robb)-[:INTERACTS {weight: 4}]->(Ramsay)>\n",
            "<Record p=(Drogo)<-[:INTERACTS {weight: 18}]-(Daenerys)-[:INTERACTS {weight: 5}]->(Robert)<-[:INTERACTS {weight: 5}]-(Jon)<-[:INTERACTS {weight: 14}]-(Robb)-[:INTERACTS {weight: 4}]->(Ramsay)>\n",
            "<Record p=(Drogo)<-[:INTERACTS {weight: 18}]-(Daenerys)-[:INTERACTS {weight: 5}]->(Robert)<-[:INTERACTS {weight: 11}]-(Tywin)<-[:INTERACTS {weight: 12}]-(Robb)-[:INTERACTS {weight: 4}]->(Ramsay)>\n",
            "<Record p=(Drogo)<-[:INTERACTS {weight: 18}]-(Daenerys)-[:INTERACTS {weight: 5}]->(Robert)<-[:INTERACTS {weight: 10}]-(Eddard)-[:INTERACTS {weight: 13}]->(Robb)-[:INTERACTS {weight: 4}]->(Ramsay)>\n",
            "<Record p=(Drogo)<-[:INTERACTS {weight: 18}]-(Daenerys)-[:INTERACTS {weight: 5}]->(Robert)<-[:INTERACTS {weight: 4}]-(Arya)<-[:INTERACTS {weight: 15}]-(Robb)-[:INTERACTS {weight: 4}]->(Ramsay)>\n"
          ],
          "name": "stdout"
        }
      ]
    },
    {
      "cell_type": "markdown",
      "metadata": {
        "id": "RmDh0DhriphC",
        "colab_type": "text"
      },
      "source": [
        "**11. find top 10 degree of characters**"
      ]
    },
    {
      "cell_type": "code",
      "metadata": {
        "id": "wXnMIb0wYPXZ",
        "colab_type": "code",
        "outputId": "7043720c-1e4f-47b2-eea0-39ce8b33c987",
        "colab": {
          "base_uri": "https://localhost:8080/",
          "height": 187
        }
      },
      "source": [
        "for r in graph.run('''\n",
        "MATCH (c:Character)-[:INTERACTS]-()\n",
        "RETURN c.name AS character, count(*) AS degree ORDER BY degree DESC LIMIT 10\n",
        "'''):\n",
        "    print(r)"
      ],
      "execution_count": 0,
      "outputs": [
        {
          "output_type": "stream",
          "text": [
            "<Record character='Tyrion' degree=36>\n",
            "<Record character='Jon' degree=26>\n",
            "<Record character='Sansa' degree=26>\n",
            "<Record character='Robb' degree=25>\n",
            "<Record character='Jaime' degree=24>\n",
            "<Record character='Tywin' degree=22>\n",
            "<Record character='Cersei' degree=20>\n",
            "<Record character='Arya' degree=19>\n",
            "<Record character='Robert' degree=18>\n",
            "<Record character='Joffrey' degree=18>\n"
          ],
          "name": "stdout"
        }
      ]
    },
    {
      "cell_type": "markdown",
      "metadata": {
        "id": "iKO4OEfoizGc",
        "colab_type": "text"
      },
      "source": [
        "**12. sum up all the weight of character and order by sum and take top 10**"
      ]
    },
    {
      "cell_type": "code",
      "metadata": {
        "id": "iy6qnbQPYTma",
        "colab_type": "code",
        "outputId": "d7c11eac-1f6c-418b-889c-2491fda56e4c",
        "colab": {
          "base_uri": "https://localhost:8080/",
          "height": 187
        }
      },
      "source": [
        "for r in graph.run('''\n",
        "MATCH (c:Character)-[r:INTERACTS]-()\n",
        "RETURN c.name AS character, sum(r.weight) AS weightedDegree ORDER BY weightedDegree DESC LIMIT 10\n",
        "'''):\n",
        "    print(r)"
      ],
      "execution_count": 0,
      "outputs": [
        {
          "output_type": "stream",
          "text": [
            "<Record character='Tyrion' weightedDegree=551>\n",
            "<Record character='Jon' weightedDegree=442>\n",
            "<Record character='Sansa' weightedDegree=383>\n",
            "<Record character='Jaime' weightedDegree=372>\n",
            "<Record character='Bran' weightedDegree=344>\n",
            "<Record character='Robb' weightedDegree=342>\n",
            "<Record character='Samwell' weightedDegree=282>\n",
            "<Record character='Arya' weightedDegree=269>\n",
            "<Record character='Joffrey' weightedDegree=255>\n",
            "<Record character='Daenerys' weightedDegree=232>\n"
          ],
          "name": "stdout"
        }
      ]
    },
    {
      "cell_type": "markdown",
      "metadata": {
        "id": "VQsL1Vopi8wT",
        "colab_type": "text"
      },
      "source": [
        "**13. count the score of character node betweenness and get top 10**"
      ]
    },
    {
      "cell_type": "code",
      "metadata": {
        "id": "wXEsMFnwYWPz",
        "colab_type": "code",
        "outputId": "1269a3a4-0937-4a44-a84d-e93f60f6eb89",
        "colab": {
          "base_uri": "https://localhost:8080/",
          "height": 187
        }
      },
      "source": [
        "for r in graph.run('''\n",
        "MATCH (c:Character)\n",
        "WITH collect(c) AS characters\n",
        "CALL apoc.algo.betweenness(['INTERACTS'], characters, 'BOTH') YIELD node, score\n",
        "SET node.betweenness = score\n",
        "RETURN node.name AS name, score ORDER BY score DESC LIMIT 10\n",
        "'''):\n",
        "    print(r)"
      ],
      "execution_count": 0,
      "outputs": [
        {
          "output_type": "stream",
          "text": [
            "<Record name='Jon' score=1279.7533534055324>\n",
            "<Record name='Robert' score=1165.6025171231624>\n",
            "<Record name='Tyrion' score=1101.3849724234349>\n",
            "<Record name='Daenerys' score=874.8372110508582>\n",
            "<Record name='Robb' score=706.5572832464791>\n",
            "<Record name='Sansa' score=705.1985623519137>\n",
            "<Record name='Stannis' score=571.5247305125714>\n",
            "<Record name='Jaime' score=556.1852522889822>\n",
            "<Record name='Arya' score=443.0135843004335>\n",
            "<Record name='Tywin' score=364.72121955280846>\n"
          ],
          "name": "stdout"
        }
      ]
    },
    {
      "cell_type": "markdown",
      "metadata": {
        "id": "kjMsarkajGx9",
        "colab_type": "text"
      },
      "source": [
        "**14. Get top 10 closeness score of character nodes**"
      ]
    },
    {
      "cell_type": "code",
      "metadata": {
        "id": "395YfU_aYZr8",
        "colab_type": "code",
        "outputId": "4d5021ce-3442-4207-d5e3-559a0e495c4b",
        "colab": {
          "base_uri": "https://localhost:8080/",
          "height": 187
        }
      },
      "source": [
        "for r in graph.run('''\n",
        "MATCH (c:Character)\n",
        "WITH collect(c) AS characters\n",
        "CALL apoc.algo.closeness(['INTERACTS'], characters, 'BOTH') YIELD node, score\n",
        "RETURN node.name AS name, score ORDER BY score DESC LIMIT 10\n",
        "'''):\n",
        "    print(r)"
      ],
      "execution_count": 0,
      "outputs": [
        {
          "output_type": "stream",
          "text": [
            "<Record name='Tyrion' score=0.004830917874396135>\n",
            "<Record name='Sansa' score=0.004807692307692308>\n",
            "<Record name='Robert' score=0.0047169811320754715>\n",
            "<Record name='Robb' score=0.004608294930875576>\n",
            "<Record name='Arya' score=0.0045871559633027525>\n",
            "<Record name='Jon' score=0.004524886877828055>\n",
            "<Record name='Stannis' score=0.004524886877828055>\n",
            "<Record name='Jaime' score=0.004524886877828055>\n",
            "<Record name='Tywin' score=0.004424778761061947>\n",
            "<Record name='Eddard' score=0.004347826086956522>\n"
          ],
          "name": "stdout"
        }
      ]
    },
    {
      "cell_type": "markdown",
      "metadata": {
        "id": "Y0_nUGEhjXz7",
        "colab_type": "text"
      },
      "source": [
        "**15. Building an igraph instance from Neo4j**"
      ]
    },
    {
      "cell_type": "code",
      "metadata": {
        "id": "QwDit_YDYeAV",
        "colab_type": "code",
        "outputId": "062824ef-a030-4796-ca8d-a268c17dd846",
        "colab": {
          "base_uri": "https://localhost:8080/",
          "height": 51
        }
      },
      "source": [
        "!pip install python-igraph\n",
        "from igraph import Graph as IGraph\n",
        "\n",
        "query = '''\n",
        "MATCH (c1:Character)-[r:INTERACTS]->(c2:Character)\n",
        "RETURN c1.name, c2.name, r.weight AS weight\n",
        "'''\n",
        "\n",
        "ig = IGraph.TupleList(graph.run(query), weights=True)\n",
        "\n",
        "ig"
      ],
      "execution_count": 0,
      "outputs": [
        {
          "output_type": "stream",
          "text": [
            "Requirement already satisfied: python-igraph in /usr/local/lib/python3.6/dist-packages (0.7.1.post6)\n"
          ],
          "name": "stdout"
        },
        {
          "output_type": "execute_result",
          "data": {
            "text/plain": [
              "<igraph.Graph at 0x7f3308396a98>"
            ]
          },
          "metadata": {
            "tags": []
          },
          "execution_count": 76
        }
      ]
    },
    {
      "cell_type": "markdown",
      "metadata": {
        "id": "VK3QpuzGjk0s",
        "colab_type": "text"
      },
      "source": [
        "**16. Get pagerank of data and print only five rows**"
      ]
    },
    {
      "cell_type": "code",
      "metadata": {
        "id": "mbEzOf61t9Q1",
        "colab_type": "code",
        "outputId": "ee76a24b-7b45-4e1b-a4f8-46b9ff438137",
        "colab": {
          "base_uri": "https://localhost:8080/",
          "height": 71
        }
      },
      "source": [
        "pg = ig.pagerank()\n",
        "pgvs = []\n",
        "for p in zip(ig.vs, pg):\n",
        "    pgvs.append({\"name\": p[0][\"name\"], \"pg\": p[1]})\n",
        "print(pgvs[:5])\n",
        "\n",
        "write_clusters_query = '''\n",
        "UNWIND {nodes} AS n\n",
        "MATCH (c:Character) WHERE c.name = n.name\n",
        "SET c.pagerank = n.pg\n",
        "'''\n",
        "\n",
        "graph.run(write_clusters_query, nodes=pgvs)"
      ],
      "execution_count": 0,
      "outputs": [
        {
          "output_type": "stream",
          "text": [
            "[{'name': 'Jorah', 'pg': 0.011545271681757226}, {'name': 'Belwas', 'pg': 0.009060243767082135}, {'name': 'Daenerys', 'pg': 0.02881425425830275}, {'name': 'Sandor', 'pg': 0.014890666079839639}, {'name': 'Beric', 'pg': 0.008222353952587197}]\n"
          ],
          "name": "stdout"
        },
        {
          "output_type": "execute_result",
          "data": {
            "text/plain": [
              "<py2neo.database.Cursor at 0x7f3308301e10>"
            ]
          },
          "metadata": {
            "tags": []
          },
          "execution_count": 77
        }
      ]
    },
    {
      "cell_type": "markdown",
      "metadata": {
        "id": "3v0DeXOBj6Th",
        "colab_type": "text"
      },
      "source": [
        "**17. Get top 10 pagerank character and score**"
      ]
    },
    {
      "cell_type": "code",
      "metadata": {
        "id": "qFMWQzJauDKC",
        "colab_type": "code",
        "outputId": "19086268-91e8-4720-8468-930c2fdd101d",
        "colab": {
          "base_uri": "https://localhost:8080/",
          "height": 187
        }
      },
      "source": [
        "for r in graph.run('''\n",
        "MATCH (n:Character)\n",
        "RETURN n.name AS name, n.pagerank AS pagerank ORDER BY pagerank DESC LIMIT 10\n",
        "'''):\n",
        "    print(r)"
      ],
      "execution_count": 0,
      "outputs": [
        {
          "output_type": "stream",
          "text": [
            "<Record name='Tyrion' pagerank=0.04288498199996331>\n",
            "<Record name='Jon' pagerank=0.03582869669163557>\n",
            "<Record name='Robb' pagerank=0.030171146655947625>\n",
            "<Record name='Sansa' pagerank=0.03000971666010857>\n",
            "<Record name='Daenerys' pagerank=0.02881425425830275>\n",
            "<Record name='Jaime' pagerank=0.028727587587471206>\n",
            "<Record name='Tywin' pagerank=0.025700162626425417>\n",
            "<Record name='Robert' pagerank=0.022292016521362867>\n",
            "<Record name='Cersei' pagerank=0.02228732758977349>\n",
            "<Record name='Arya' pagerank=0.022050209663844467>\n"
          ],
          "name": "stdout"
        }
      ]
    },
    {
      "cell_type": "markdown",
      "metadata": {
        "id": "hXDl-yqgkADQ",
        "colab_type": "text"
      },
      "source": [
        "**18. Get 5 characters and its community**"
      ]
    },
    {
      "cell_type": "code",
      "metadata": {
        "id": "nUSykPDEuFMo",
        "colab_type": "code",
        "outputId": "a200b1cf-4c07-4df2-b56d-1f06d3b53a84",
        "colab": {
          "base_uri": "https://localhost:8080/",
          "height": 71
        }
      },
      "source": [
        "clusters = IGraph.community_walktrap(ig, weights=\"weight\").as_clustering()\n",
        "\n",
        "nodes = [{\"name\": node[\"name\"]} for node in ig.vs]\n",
        "for node in nodes:\n",
        "    idx = ig.vs.find(name=node[\"name\"]).index\n",
        "    node[\"community\"] = clusters.membership[idx]\n",
        "\n",
        "print(nodes[:5])\n",
        "\n",
        "write_clusters_query = '''\n",
        "UNWIND {nodes} AS n\n",
        "MATCH (c:Character) WHERE c.name = n.name\n",
        "SET c.community = toInt(n.community)\n",
        "'''\n",
        "\n",
        "graph.run(write_clusters_query, nodes=nodes)"
      ],
      "execution_count": 0,
      "outputs": [
        {
          "output_type": "stream",
          "text": [
            "[{'name': 'Jorah', 'community': 0}, {'name': 'Belwas', 'community': 0}, {'name': 'Daenerys', 'community': 0}, {'name': 'Sandor', 'community': 1}, {'name': 'Beric', 'community': 1}]\n"
          ],
          "name": "stdout"
        },
        {
          "output_type": "execute_result",
          "data": {
            "text/plain": [
              "<py2neo.database.Cursor at 0x7f33083064e0>"
            ]
          },
          "metadata": {
            "tags": []
          },
          "execution_count": 79
        }
      ]
    },
    {
      "cell_type": "markdown",
      "metadata": {
        "id": "rJts_VkLkMoh",
        "colab_type": "text"
      },
      "source": [
        "**19. Print by cluster community**"
      ]
    },
    {
      "cell_type": "code",
      "metadata": {
        "id": "dBHJHRYBuHoj",
        "colab_type": "code",
        "outputId": "2f863c66-1516-46e7-ae66-2e07685030ea",
        "colab": {
          "base_uri": "https://localhost:8080/",
          "height": 173
        }
      },
      "source": [
        "for r in graph.run('''\n",
        "MATCH (c:Character)\n",
        "WITH c.community AS cluster, collect(c.name) AS  members\n",
        "RETURN cluster, members ORDER BY cluster ASC\n",
        "'''):\n",
        "    print(r)"
      ],
      "execution_count": 0,
      "outputs": [
        {
          "output_type": "stream",
          "text": [
            "<Record cluster=0 members=['Belwas', 'Daario', 'Daenerys', 'Irri', 'Jorah', 'Missandei', 'Rhaegar', 'Viserys', 'Barristan', 'Illyrio', 'Drogo', 'Aegon', 'Kraznys', 'Rakharo', 'Worm']>\n",
            "<Record cluster=1 members=['Beric', 'Eddard', 'Gendry', 'Sandor', 'Anguy', 'Thoros', 'Arya']>\n",
            "<Record cluster=2 members=['Brienne', 'Bronn', 'Cersei', 'Gregor', 'Jaime', 'Joffrey', 'Jon Arryn', 'Kevan', 'Loras', 'Lysa', 'Meryn', 'Myrcella', 'Oberyn', 'Podrick', 'Renly', 'Robert', 'Robert Arryn', 'Sansa', 'Shae', 'Tommen', 'Tyrion', 'Tywin', 'Varys', 'Walton', 'Petyr', 'Elia', 'Ilyn', 'Pycelle', 'Qyburn', 'Margaery', 'Olenna', 'Marillion', 'Ellaria', 'Mace', 'Chataya', 'Doran', 'Aerys', 'Amory', 'Balon']>\n",
            "<Record cluster=3 members=['Bran', 'Hodor', 'Jojen', 'Luwin', 'Meera', 'Rickon', 'Nan', 'Theon']>\n",
            "<Record cluster=4 members=['Brynden', 'Catelyn', 'Edmure', 'Hoster', 'Lothar', 'Rickard', 'Robb', 'Roose', 'Walder', 'Jeyne', 'Roslin', 'Ramsay']>\n",
            "<Record cluster=5 members=['Craster', 'Eddison', 'Gilly', 'Janos', 'Jon', 'Mance', 'Rattleshirt', 'Samwell', 'Val', 'Ygritte', 'Grenn', 'Karl', 'Bowen', 'Dalla', 'Orell', 'Qhorin', 'Styr', 'Aemon', 'Alliser']>\n",
            "<Record cluster=6 members=['Davos', 'Melisandre', 'Shireen', 'Stannis', 'Cressen', 'Salladhor']>\n",
            "<Record cluster=7 members=['Lancel']>\n"
          ],
          "name": "stdout"
        }
      ]
    }
  ]
}